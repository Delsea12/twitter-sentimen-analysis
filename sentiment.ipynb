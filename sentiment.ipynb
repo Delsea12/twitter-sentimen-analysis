{
 "cells": [
  {
   "cell_type": "code",
   "execution_count": 2,
   "metadata": {},
   "outputs": [],
   "source": [
    "import pandas as pd\n",
    "import numpy as np"
   ]
  },
  {
   "cell_type": "markdown",
   "metadata": {},
   "source": [
    "## Import Data"
   ]
  },
  {
   "cell_type": "code",
   "execution_count": 3,
   "metadata": {},
   "outputs": [
    {
     "name": "stdout",
     "output_type": "stream",
     "text": [
      "1044\n"
     ]
    }
   ],
   "source": [
    "df = pd.read_csv('F:/KULIAHHH/Semester 5/AI/Tugas/crawling/coba-lagi/tweets-data/baru_sby.csv', delimiter=\";\")\n",
    "\n",
    "# Menampilkan jumlah baris (data) pada DataFrame\n",
    "jumlah_data = df.shape[0]\n",
    "print(jumlah_data)"
   ]
  },
  {
   "cell_type": "code",
   "execution_count": 4,
   "metadata": {},
   "outputs": [
    {
     "data": {
      "text/html": [
       "<div>\n",
       "<style scoped>\n",
       "    .dataframe tbody tr th:only-of-type {\n",
       "        vertical-align: middle;\n",
       "    }\n",
       "\n",
       "    .dataframe tbody tr th {\n",
       "        vertical-align: top;\n",
       "    }\n",
       "\n",
       "    .dataframe thead th {\n",
       "        text-align: right;\n",
       "    }\n",
       "</style>\n",
       "<table border=\"1\" class=\"dataframe\">\n",
       "  <thead>\n",
       "    <tr style=\"text-align: right;\">\n",
       "      <th></th>\n",
       "      <th>created_at</th>\n",
       "      <th>id_str</th>\n",
       "      <th>full_text</th>\n",
       "      <th>quote_count</th>\n",
       "      <th>reply_count</th>\n",
       "      <th>retweet_count</th>\n",
       "      <th>favorite_count</th>\n",
       "      <th>lang</th>\n",
       "      <th>user_id_str</th>\n",
       "      <th>conversation_id_str</th>\n",
       "      <th>username</th>\n",
       "      <th>tweet_url</th>\n",
       "    </tr>\n",
       "  </thead>\n",
       "  <tbody>\n",
       "    <tr>\n",
       "      <th>0</th>\n",
       "      <td>Fri Nov 03 03:01:10 +0000 2023</td>\n",
       "      <td>1720274893080785044</td>\n",
       "      <td>@Ferdyan_SN @LtdAkbar Yg menolak kebijakan glo...</td>\n",
       "      <td>0</td>\n",
       "      <td>1</td>\n",
       "      <td>4</td>\n",
       "      <td>2</td>\n",
       "      <td>in</td>\n",
       "      <td>253865124</td>\n",
       "      <td>1720077817374011483</td>\n",
       "      <td>mas_prasetiyo</td>\n",
       "      <td>https://twitter.com/mas_prasetiyo/status/17202...</td>\n",
       "    </tr>\n",
       "    <tr>\n",
       "      <th>1</th>\n",
       "      <td>Tue Oct 17 01:59:20 +0000 2023</td>\n",
       "      <td>1714098739466707110</td>\n",
       "      <td>@KAI121 Halo Min, ayah saya belum melakukan va...</td>\n",
       "      <td>0</td>\n",
       "      <td>1</td>\n",
       "      <td>0</td>\n",
       "      <td>0</td>\n",
       "      <td>in</td>\n",
       "      <td>1243771268144365568</td>\n",
       "      <td>1714098739466707110</td>\n",
       "      <td>yahoohoniess</td>\n",
       "      <td>https://twitter.com/yahoohoniess/status/171409...</td>\n",
       "    </tr>\n",
       "    <tr>\n",
       "      <th>2</th>\n",
       "      <td>Tue Oct 17 01:54:31 +0000 2023</td>\n",
       "      <td>1714097525458944279</td>\n",
       "      <td>@KAI121 Halo Min, ayah saya belum melakukan va...</td>\n",
       "      <td>0</td>\n",
       "      <td>1</td>\n",
       "      <td>0</td>\n",
       "      <td>0</td>\n",
       "      <td>in</td>\n",
       "      <td>1243771268144365568</td>\n",
       "      <td>1714097525458944279</td>\n",
       "      <td>yahoohoniess</td>\n",
       "      <td>https://twitter.com/yahoohoniess/status/171409...</td>\n",
       "    </tr>\n",
       "    <tr>\n",
       "      <th>3</th>\n",
       "      <td>Mon Oct 09 02:05:33 +0000 2023</td>\n",
       "      <td>1711201202401337596</td>\n",
       "      <td>Lowongan Kerja Lidah Buaya Group  SALES  Kuali...</td>\n",
       "      <td>0</td>\n",
       "      <td>0</td>\n",
       "      <td>0</td>\n",
       "      <td>0</td>\n",
       "      <td>in</td>\n",
       "      <td>1237416418338992130</td>\n",
       "      <td>1711201202401337596</td>\n",
       "      <td>karirpurwokerto</td>\n",
       "      <td>https://twitter.com/karirpurwokerto/status/171...</td>\n",
       "    </tr>\n",
       "    <tr>\n",
       "      <th>4</th>\n",
       "      <td>Thu Aug 31 13:07:52 +0000 2023</td>\n",
       "      <td>1697234750627533198</td>\n",
       "      <td>3. Hal tersebut selaras dengan program pemerin...</td>\n",
       "      <td>0</td>\n",
       "      <td>0</td>\n",
       "      <td>0</td>\n",
       "      <td>1</td>\n",
       "      <td>in</td>\n",
       "      <td>737183024295469056</td>\n",
       "      <td>1697234589931254067</td>\n",
       "      <td>PTPAL_INDONESIA</td>\n",
       "      <td>https://twitter.com/PTPAL_INDONESIA/status/169...</td>\n",
       "    </tr>\n",
       "    <tr>\n",
       "      <th>5</th>\n",
       "      <td>Thu Aug 31 13:07:13 +0000 2023</td>\n",
       "      <td>1697234589931254067</td>\n",
       "      <td>1. Surabaya (31/08) Dalam karyawan yang sehat ...</td>\n",
       "      <td>0</td>\n",
       "      <td>1</td>\n",
       "      <td>1</td>\n",
       "      <td>5</td>\n",
       "      <td>in</td>\n",
       "      <td>737183024295469056</td>\n",
       "      <td>1697234589931254067</td>\n",
       "      <td>PTPAL_INDONESIA</td>\n",
       "      <td>https://twitter.com/PTPAL_INDONESIA/status/169...</td>\n",
       "    </tr>\n",
       "    <tr>\n",
       "      <th>6</th>\n",
       "      <td>Tue Aug 29 03:15:30 +0000 2023</td>\n",
       "      <td>1696360900314402889</td>\n",
       "      <td>@ch_chotimah2 @jokowi @mohmahfudmd @Dr_Moeldok...</td>\n",
       "      <td>0</td>\n",
       "      <td>0</td>\n",
       "      <td>0</td>\n",
       "      <td>0</td>\n",
       "      <td>in</td>\n",
       "      <td>2373724154</td>\n",
       "      <td>1696076188236869673</td>\n",
       "      <td>yudiwijayaa</td>\n",
       "      <td>https://twitter.com/yudiwijayaa/status/1696360...</td>\n",
       "    </tr>\n",
       "    <tr>\n",
       "      <th>7</th>\n",
       "      <td>Mon Aug 14 02:45:10 +0000 2023</td>\n",
       "      <td>1690917449850617856</td>\n",
       "      <td>Jadwal dan Lokasi Vaksin Covid-19 Surabaya Har...</td>\n",
       "      <td>0</td>\n",
       "      <td>0</td>\n",
       "      <td>0</td>\n",
       "      <td>0</td>\n",
       "      <td>in</td>\n",
       "      <td>79130206</td>\n",
       "      <td>1690917449850617856</td>\n",
       "      <td>jpnncom</td>\n",
       "      <td>https://twitter.com/jpnncom/status/16909174498...</td>\n",
       "    </tr>\n",
       "    <tr>\n",
       "      <th>8</th>\n",
       "      <td>Sat Aug 12 02:34:07 +0000 2023</td>\n",
       "      <td>1690189893044150274</td>\n",
       "      <td>Jadwal dan Lokasi Vaksin Covid-19 Surabaya Har...</td>\n",
       "      <td>0</td>\n",
       "      <td>0</td>\n",
       "      <td>0</td>\n",
       "      <td>0</td>\n",
       "      <td>in</td>\n",
       "      <td>79130206</td>\n",
       "      <td>1690189893044150274</td>\n",
       "      <td>jpnncom</td>\n",
       "      <td>https://twitter.com/jpnncom/status/16901898930...</td>\n",
       "    </tr>\n",
       "    <tr>\n",
       "      <th>9</th>\n",
       "      <td>Thu Aug 10 02:34:07 +0000 2023</td>\n",
       "      <td>1689465119942541312</td>\n",
       "      <td>Jadwal dan Lokasi Vaksin Covid-19 Surabaya Har...</td>\n",
       "      <td>0</td>\n",
       "      <td>0</td>\n",
       "      <td>0</td>\n",
       "      <td>0</td>\n",
       "      <td>in</td>\n",
       "      <td>79130206</td>\n",
       "      <td>1689465119942541312</td>\n",
       "      <td>jpnncom</td>\n",
       "      <td>https://twitter.com/jpnncom/status/16894651199...</td>\n",
       "    </tr>\n",
       "  </tbody>\n",
       "</table>\n",
       "</div>"
      ],
      "text/plain": [
       "                       created_at               id_str  \\\n",
       "0  Fri Nov 03 03:01:10 +0000 2023  1720274893080785044   \n",
       "1  Tue Oct 17 01:59:20 +0000 2023  1714098739466707110   \n",
       "2  Tue Oct 17 01:54:31 +0000 2023  1714097525458944279   \n",
       "3  Mon Oct 09 02:05:33 +0000 2023  1711201202401337596   \n",
       "4  Thu Aug 31 13:07:52 +0000 2023  1697234750627533198   \n",
       "5  Thu Aug 31 13:07:13 +0000 2023  1697234589931254067   \n",
       "6  Tue Aug 29 03:15:30 +0000 2023  1696360900314402889   \n",
       "7  Mon Aug 14 02:45:10 +0000 2023  1690917449850617856   \n",
       "8  Sat Aug 12 02:34:07 +0000 2023  1690189893044150274   \n",
       "9  Thu Aug 10 02:34:07 +0000 2023  1689465119942541312   \n",
       "\n",
       "                                           full_text  quote_count  \\\n",
       "0  @Ferdyan_SN @LtdAkbar Yg menolak kebijakan glo...            0   \n",
       "1  @KAI121 Halo Min, ayah saya belum melakukan va...            0   \n",
       "2  @KAI121 Halo Min, ayah saya belum melakukan va...            0   \n",
       "3  Lowongan Kerja Lidah Buaya Group  SALES  Kuali...            0   \n",
       "4  3. Hal tersebut selaras dengan program pemerin...            0   \n",
       "5  1. Surabaya (31/08) Dalam karyawan yang sehat ...            0   \n",
       "6  @ch_chotimah2 @jokowi @mohmahfudmd @Dr_Moeldok...            0   \n",
       "7  Jadwal dan Lokasi Vaksin Covid-19 Surabaya Har...            0   \n",
       "8  Jadwal dan Lokasi Vaksin Covid-19 Surabaya Har...            0   \n",
       "9  Jadwal dan Lokasi Vaksin Covid-19 Surabaya Har...            0   \n",
       "\n",
       "   reply_count  retweet_count  favorite_count lang          user_id_str  \\\n",
       "0            1              4               2   in            253865124   \n",
       "1            1              0               0   in  1243771268144365568   \n",
       "2            1              0               0   in  1243771268144365568   \n",
       "3            0              0               0   in  1237416418338992130   \n",
       "4            0              0               1   in   737183024295469056   \n",
       "5            1              1               5   in   737183024295469056   \n",
       "6            0              0               0   in           2373724154   \n",
       "7            0              0               0   in             79130206   \n",
       "8            0              0               0   in             79130206   \n",
       "9            0              0               0   in             79130206   \n",
       "\n",
       "   conversation_id_str         username  \\\n",
       "0  1720077817374011483    mas_prasetiyo   \n",
       "1  1714098739466707110     yahoohoniess   \n",
       "2  1714097525458944279     yahoohoniess   \n",
       "3  1711201202401337596  karirpurwokerto   \n",
       "4  1697234589931254067  PTPAL_INDONESIA   \n",
       "5  1697234589931254067  PTPAL_INDONESIA   \n",
       "6  1696076188236869673      yudiwijayaa   \n",
       "7  1690917449850617856          jpnncom   \n",
       "8  1690189893044150274          jpnncom   \n",
       "9  1689465119942541312          jpnncom   \n",
       "\n",
       "                                           tweet_url  \n",
       "0  https://twitter.com/mas_prasetiyo/status/17202...  \n",
       "1  https://twitter.com/yahoohoniess/status/171409...  \n",
       "2  https://twitter.com/yahoohoniess/status/171409...  \n",
       "3  https://twitter.com/karirpurwokerto/status/171...  \n",
       "4  https://twitter.com/PTPAL_INDONESIA/status/169...  \n",
       "5  https://twitter.com/PTPAL_INDONESIA/status/169...  \n",
       "6  https://twitter.com/yudiwijayaa/status/1696360...  \n",
       "7  https://twitter.com/jpnncom/status/16909174498...  \n",
       "8  https://twitter.com/jpnncom/status/16901898930...  \n",
       "9  https://twitter.com/jpnncom/status/16894651199...  "
      ]
     },
     "execution_count": 4,
     "metadata": {},
     "output_type": "execute_result"
    }
   ],
   "source": [
    "df.head(10)"
   ]
  },
  {
   "cell_type": "code",
   "execution_count": 5,
   "metadata": {},
   "outputs": [
    {
     "name": "stdout",
     "output_type": "stream",
     "text": [
      "<class 'pandas.core.frame.DataFrame'>\n",
      "RangeIndex: 1044 entries, 0 to 1043\n",
      "Data columns (total 12 columns):\n",
      " #   Column               Non-Null Count  Dtype \n",
      "---  ------               --------------  ----- \n",
      " 0   created_at           1044 non-null   object\n",
      " 1   id_str               1044 non-null   int64 \n",
      " 2   full_text            1044 non-null   object\n",
      " 3   quote_count          1044 non-null   int64 \n",
      " 4   reply_count          1044 non-null   int64 \n",
      " 5   retweet_count        1044 non-null   int64 \n",
      " 6   favorite_count       1044 non-null   int64 \n",
      " 7   lang                 1044 non-null   object\n",
      " 8   user_id_str          1044 non-null   int64 \n",
      " 9   conversation_id_str  1044 non-null   int64 \n",
      " 10  username             1044 non-null   object\n",
      " 11  tweet_url            1044 non-null   object\n",
      "dtypes: int64(7), object(5)\n",
      "memory usage: 98.0+ KB\n"
     ]
    }
   ],
   "source": [
    "# Manpilkan informasi seputar df_train\n",
    "df.info(verbose=True)"
   ]
  },
  {
   "cell_type": "code",
   "execution_count": 6,
   "metadata": {},
   "outputs": [
    {
     "data": {
      "text/plain": [
       "(1044, 12)"
      ]
     },
     "execution_count": 6,
     "metadata": {},
     "output_type": "execute_result"
    }
   ],
   "source": [
    "df.shape"
   ]
  },
  {
   "cell_type": "code",
   "execution_count": 7,
   "metadata": {},
   "outputs": [
    {
     "data": {
      "text/plain": [
       "created_at             0\n",
       "id_str                 0\n",
       "full_text              0\n",
       "quote_count            0\n",
       "reply_count            0\n",
       "retweet_count          0\n",
       "favorite_count         0\n",
       "lang                   0\n",
       "user_id_str            0\n",
       "conversation_id_str    0\n",
       "username               0\n",
       "tweet_url              0\n",
       "dtype: int64"
      ]
     },
     "execution_count": 7,
     "metadata": {},
     "output_type": "execute_result"
    }
   ],
   "source": [
    "df.isnull().sum()"
   ]
  },
  {
   "cell_type": "code",
   "execution_count": 8,
   "metadata": {},
   "outputs": [],
   "source": [
    "df = df.drop(columns=['tweet_url', 'username', 'user_id_str', 'conversation_id_str', 'id_str', 'lang', 'quote_count', 'reply_count', 'favorite_count' ])"
   ]
  },
  {
   "cell_type": "code",
   "execution_count": 9,
   "metadata": {},
   "outputs": [
    {
     "data": {
      "text/plain": [
       "created_at       0\n",
       "full_text        0\n",
       "retweet_count    0\n",
       "dtype: int64"
      ]
     },
     "execution_count": 9,
     "metadata": {},
     "output_type": "execute_result"
    }
   ],
   "source": [
    "df.isnull().sum()"
   ]
  },
  {
   "cell_type": "markdown",
   "metadata": {},
   "source": [
    "## Text Preprocessing (Case Folding)"
   ]
  },
  {
   "cell_type": "markdown",
   "metadata": {},
   "source": [
    "### Lower Case\n",
    "Text preprocessing untuk mengubah seluruh huruf menjadi kecil(lower case). Alasannya agar ketika mencari data tidak dipengaruhi oleh besar kecilnya huruf."
   ]
  },
  {
   "cell_type": "code",
   "execution_count": 10,
   "metadata": {},
   "outputs": [
    {
     "data": {
      "text/html": [
       "<div>\n",
       "<style scoped>\n",
       "    .dataframe tbody tr th:only-of-type {\n",
       "        vertical-align: middle;\n",
       "    }\n",
       "\n",
       "    .dataframe tbody tr th {\n",
       "        vertical-align: top;\n",
       "    }\n",
       "\n",
       "    .dataframe thead th {\n",
       "        text-align: right;\n",
       "    }\n",
       "</style>\n",
       "<table border=\"1\" class=\"dataframe\">\n",
       "  <thead>\n",
       "    <tr style=\"text-align: right;\">\n",
       "      <th></th>\n",
       "      <th>created_at</th>\n",
       "      <th>full_text</th>\n",
       "      <th>retweet_count</th>\n",
       "    </tr>\n",
       "  </thead>\n",
       "  <tbody>\n",
       "    <tr>\n",
       "      <th>0</th>\n",
       "      <td>Fri Nov 03 03:01:10 +0000 2023</td>\n",
       "      <td>@ferdyan_sn @ltdakbar yg menolak kebijakan glo...</td>\n",
       "      <td>4</td>\n",
       "    </tr>\n",
       "    <tr>\n",
       "      <th>1</th>\n",
       "      <td>Tue Oct 17 01:59:20 +0000 2023</td>\n",
       "      <td>@kai121 halo min, ayah saya belum melakukan va...</td>\n",
       "      <td>0</td>\n",
       "    </tr>\n",
       "    <tr>\n",
       "      <th>2</th>\n",
       "      <td>Tue Oct 17 01:54:31 +0000 2023</td>\n",
       "      <td>@kai121 halo min, ayah saya belum melakukan va...</td>\n",
       "      <td>0</td>\n",
       "    </tr>\n",
       "    <tr>\n",
       "      <th>3</th>\n",
       "      <td>Mon Oct 09 02:05:33 +0000 2023</td>\n",
       "      <td>lowongan kerja lidah buaya group  sales  kuali...</td>\n",
       "      <td>0</td>\n",
       "    </tr>\n",
       "    <tr>\n",
       "      <th>4</th>\n",
       "      <td>Thu Aug 31 13:07:52 +0000 2023</td>\n",
       "      <td>3. hal tersebut selaras dengan program pemerin...</td>\n",
       "      <td>0</td>\n",
       "    </tr>\n",
       "    <tr>\n",
       "      <th>5</th>\n",
       "      <td>Thu Aug 31 13:07:13 +0000 2023</td>\n",
       "      <td>1. surabaya (31/08) dalam karyawan yang sehat ...</td>\n",
       "      <td>1</td>\n",
       "    </tr>\n",
       "    <tr>\n",
       "      <th>6</th>\n",
       "      <td>Tue Aug 29 03:15:30 +0000 2023</td>\n",
       "      <td>@ch_chotimah2 @jokowi @mohmahfudmd @dr_moeldok...</td>\n",
       "      <td>0</td>\n",
       "    </tr>\n",
       "    <tr>\n",
       "      <th>7</th>\n",
       "      <td>Mon Aug 14 02:45:10 +0000 2023</td>\n",
       "      <td>jadwal dan lokasi vaksin covid-19 surabaya har...</td>\n",
       "      <td>0</td>\n",
       "    </tr>\n",
       "    <tr>\n",
       "      <th>8</th>\n",
       "      <td>Sat Aug 12 02:34:07 +0000 2023</td>\n",
       "      <td>jadwal dan lokasi vaksin covid-19 surabaya har...</td>\n",
       "      <td>0</td>\n",
       "    </tr>\n",
       "    <tr>\n",
       "      <th>9</th>\n",
       "      <td>Thu Aug 10 02:34:07 +0000 2023</td>\n",
       "      <td>jadwal dan lokasi vaksin covid-19 surabaya har...</td>\n",
       "      <td>0</td>\n",
       "    </tr>\n",
       "  </tbody>\n",
       "</table>\n",
       "</div>"
      ],
      "text/plain": [
       "                       created_at  \\\n",
       "0  Fri Nov 03 03:01:10 +0000 2023   \n",
       "1  Tue Oct 17 01:59:20 +0000 2023   \n",
       "2  Tue Oct 17 01:54:31 +0000 2023   \n",
       "3  Mon Oct 09 02:05:33 +0000 2023   \n",
       "4  Thu Aug 31 13:07:52 +0000 2023   \n",
       "5  Thu Aug 31 13:07:13 +0000 2023   \n",
       "6  Tue Aug 29 03:15:30 +0000 2023   \n",
       "7  Mon Aug 14 02:45:10 +0000 2023   \n",
       "8  Sat Aug 12 02:34:07 +0000 2023   \n",
       "9  Thu Aug 10 02:34:07 +0000 2023   \n",
       "\n",
       "                                           full_text  retweet_count  \n",
       "0  @ferdyan_sn @ltdakbar yg menolak kebijakan glo...              4  \n",
       "1  @kai121 halo min, ayah saya belum melakukan va...              0  \n",
       "2  @kai121 halo min, ayah saya belum melakukan va...              0  \n",
       "3  lowongan kerja lidah buaya group  sales  kuali...              0  \n",
       "4  3. hal tersebut selaras dengan program pemerin...              0  \n",
       "5  1. surabaya (31/08) dalam karyawan yang sehat ...              1  \n",
       "6  @ch_chotimah2 @jokowi @mohmahfudmd @dr_moeldok...              0  \n",
       "7  jadwal dan lokasi vaksin covid-19 surabaya har...              0  \n",
       "8  jadwal dan lokasi vaksin covid-19 surabaya har...              0  \n",
       "9  jadwal dan lokasi vaksin covid-19 surabaya har...              0  "
      ]
     },
     "execution_count": 10,
     "metadata": {},
     "output_type": "execute_result"
    }
   ],
   "source": [
    "df['full_text'] = df['full_text'].str.lower()\n",
    "\n",
    "df.head(10)\n"
   ]
  },
  {
   "cell_type": "markdown",
   "metadata": {},
   "source": [
    "### Deleting numbers\n",
    "Angka dihapus karena tidak relevan dengan analisa yang kami lakukan,angka tidak menghasilkan konotasi positif atau negatif."
   ]
  },
  {
   "cell_type": "code",
   "execution_count": 11,
   "metadata": {},
   "outputs": [
    {
     "data": {
      "text/html": [
       "<div>\n",
       "<style scoped>\n",
       "    .dataframe tbody tr th:only-of-type {\n",
       "        vertical-align: middle;\n",
       "    }\n",
       "\n",
       "    .dataframe tbody tr th {\n",
       "        vertical-align: top;\n",
       "    }\n",
       "\n",
       "    .dataframe thead th {\n",
       "        text-align: right;\n",
       "    }\n",
       "</style>\n",
       "<table border=\"1\" class=\"dataframe\">\n",
       "  <thead>\n",
       "    <tr style=\"text-align: right;\">\n",
       "      <th></th>\n",
       "      <th>created_at</th>\n",
       "      <th>full_text</th>\n",
       "      <th>retweet_count</th>\n",
       "    </tr>\n",
       "  </thead>\n",
       "  <tbody>\n",
       "    <tr>\n",
       "      <th>0</th>\n",
       "      <td>Fri Nov 03 03:01:10 +0000 2023</td>\n",
       "      <td>@ferdyan_sn @ltdakbar yg menolak kebijakan glo...</td>\n",
       "      <td>4</td>\n",
       "    </tr>\n",
       "    <tr>\n",
       "      <th>1</th>\n",
       "      <td>Tue Oct 17 01:59:20 +0000 2023</td>\n",
       "      <td>@kai halo min, ayah saya belum melakukan vaksi...</td>\n",
       "      <td>0</td>\n",
       "    </tr>\n",
       "    <tr>\n",
       "      <th>2</th>\n",
       "      <td>Tue Oct 17 01:54:31 +0000 2023</td>\n",
       "      <td>@kai halo min, ayah saya belum melakukan vaksi...</td>\n",
       "      <td>0</td>\n",
       "    </tr>\n",
       "    <tr>\n",
       "      <th>3</th>\n",
       "      <td>Mon Oct 09 02:05:33 +0000 2023</td>\n",
       "      <td>lowongan kerja lidah buaya group  sales  kuali...</td>\n",
       "      <td>0</td>\n",
       "    </tr>\n",
       "    <tr>\n",
       "      <th>4</th>\n",
       "      <td>Thu Aug 31 13:07:52 +0000 2023</td>\n",
       "      <td>. hal tersebut selaras dengan program pemerint...</td>\n",
       "      <td>0</td>\n",
       "    </tr>\n",
       "    <tr>\n",
       "      <th>5</th>\n",
       "      <td>Thu Aug 31 13:07:13 +0000 2023</td>\n",
       "      <td>. surabaya (/) dalam karyawan yang sehat terda...</td>\n",
       "      <td>1</td>\n",
       "    </tr>\n",
       "    <tr>\n",
       "      <th>6</th>\n",
       "      <td>Tue Aug 29 03:15:30 +0000 2023</td>\n",
       "      <td>@ch_chotimah @jokowi @mohmahfudmd @dr_moeldoko...</td>\n",
       "      <td>0</td>\n",
       "    </tr>\n",
       "    <tr>\n",
       "      <th>7</th>\n",
       "      <td>Mon Aug 14 02:45:10 +0000 2023</td>\n",
       "      <td>jadwal dan lokasi vaksin covid- surabaya hari ...</td>\n",
       "      <td>0</td>\n",
       "    </tr>\n",
       "    <tr>\n",
       "      <th>8</th>\n",
       "      <td>Sat Aug 12 02:34:07 +0000 2023</td>\n",
       "      <td>jadwal dan lokasi vaksin covid- surabaya hari ...</td>\n",
       "      <td>0</td>\n",
       "    </tr>\n",
       "    <tr>\n",
       "      <th>9</th>\n",
       "      <td>Thu Aug 10 02:34:07 +0000 2023</td>\n",
       "      <td>jadwal dan lokasi vaksin covid- surabaya hari ...</td>\n",
       "      <td>0</td>\n",
       "    </tr>\n",
       "  </tbody>\n",
       "</table>\n",
       "</div>"
      ],
      "text/plain": [
       "                       created_at  \\\n",
       "0  Fri Nov 03 03:01:10 +0000 2023   \n",
       "1  Tue Oct 17 01:59:20 +0000 2023   \n",
       "2  Tue Oct 17 01:54:31 +0000 2023   \n",
       "3  Mon Oct 09 02:05:33 +0000 2023   \n",
       "4  Thu Aug 31 13:07:52 +0000 2023   \n",
       "5  Thu Aug 31 13:07:13 +0000 2023   \n",
       "6  Tue Aug 29 03:15:30 +0000 2023   \n",
       "7  Mon Aug 14 02:45:10 +0000 2023   \n",
       "8  Sat Aug 12 02:34:07 +0000 2023   \n",
       "9  Thu Aug 10 02:34:07 +0000 2023   \n",
       "\n",
       "                                           full_text  retweet_count  \n",
       "0  @ferdyan_sn @ltdakbar yg menolak kebijakan glo...              4  \n",
       "1  @kai halo min, ayah saya belum melakukan vaksi...              0  \n",
       "2  @kai halo min, ayah saya belum melakukan vaksi...              0  \n",
       "3  lowongan kerja lidah buaya group  sales  kuali...              0  \n",
       "4  . hal tersebut selaras dengan program pemerint...              0  \n",
       "5  . surabaya (/) dalam karyawan yang sehat terda...              1  \n",
       "6  @ch_chotimah @jokowi @mohmahfudmd @dr_moeldoko...              0  \n",
       "7  jadwal dan lokasi vaksin covid- surabaya hari ...              0  \n",
       "8  jadwal dan lokasi vaksin covid- surabaya hari ...              0  \n",
       "9  jadwal dan lokasi vaksin covid- surabaya hari ...              0  "
      ]
     },
     "execution_count": 11,
     "metadata": {},
     "output_type": "execute_result"
    }
   ],
   "source": [
    "import re \n",
    "\n",
    "df['full_text'] = df['full_text'].replace('\\d', '', regex=True)\n",
    "df.head(10)"
   ]
  },
  {
   "cell_type": "markdown",
   "metadata": {},
   "source": [
    "### Handle Emoji\n",
    "Emoji dihapus karena belum tentu menunjukkan makna sesuangguhnya.Contoh emoji tersenyum belum tentu berkonotasi positif.\n",
    "\n",
    ":-) adalah emotikon dan 😜 → emoji."
   ]
  },
  {
   "cell_type": "code",
   "execution_count": 12,
   "metadata": {},
   "outputs": [],
   "source": [
    "# !pip install emoji\n"
   ]
  },
  {
   "cell_type": "code",
   "execution_count": 13,
   "metadata": {},
   "outputs": [
    {
     "data": {
      "text/html": [
       "<div>\n",
       "<style scoped>\n",
       "    .dataframe tbody tr th:only-of-type {\n",
       "        vertical-align: middle;\n",
       "    }\n",
       "\n",
       "    .dataframe tbody tr th {\n",
       "        vertical-align: top;\n",
       "    }\n",
       "\n",
       "    .dataframe thead th {\n",
       "        text-align: right;\n",
       "    }\n",
       "</style>\n",
       "<table border=\"1\" class=\"dataframe\">\n",
       "  <thead>\n",
       "    <tr style=\"text-align: right;\">\n",
       "      <th></th>\n",
       "      <th>created_at</th>\n",
       "      <th>full_text</th>\n",
       "      <th>retweet_count</th>\n",
       "    </tr>\n",
       "  </thead>\n",
       "  <tbody>\n",
       "    <tr>\n",
       "      <th>0</th>\n",
       "      <td>Fri Nov 03 03:01:10 +0000 2023</td>\n",
       "      <td>@ferdyan_sn @ltdakbar yg menolak kebijakan glo...</td>\n",
       "      <td>4</td>\n",
       "    </tr>\n",
       "    <tr>\n",
       "      <th>1</th>\n",
       "      <td>Tue Oct 17 01:59:20 +0000 2023</td>\n",
       "      <td>@kai halo min, ayah saya belum melakukan vaksi...</td>\n",
       "      <td>0</td>\n",
       "    </tr>\n",
       "    <tr>\n",
       "      <th>2</th>\n",
       "      <td>Tue Oct 17 01:54:31 +0000 2023</td>\n",
       "      <td>@kai halo min, ayah saya belum melakukan vaksi...</td>\n",
       "      <td>0</td>\n",
       "    </tr>\n",
       "    <tr>\n",
       "      <th>3</th>\n",
       "      <td>Mon Oct 09 02:05:33 +0000 2023</td>\n",
       "      <td>lowongan kerja lidah buaya group  sales  kuali...</td>\n",
       "      <td>0</td>\n",
       "    </tr>\n",
       "    <tr>\n",
       "      <th>4</th>\n",
       "      <td>Thu Aug 31 13:07:52 +0000 2023</td>\n",
       "      <td>. hal tersebut selaras dengan program pemerint...</td>\n",
       "      <td>0</td>\n",
       "    </tr>\n",
       "    <tr>\n",
       "      <th>5</th>\n",
       "      <td>Thu Aug 31 13:07:13 +0000 2023</td>\n",
       "      <td>. surabaya (/) dalam karyawan yang sehat terda...</td>\n",
       "      <td>1</td>\n",
       "    </tr>\n",
       "    <tr>\n",
       "      <th>6</th>\n",
       "      <td>Tue Aug 29 03:15:30 +0000 2023</td>\n",
       "      <td>@ch_chotimah @jokowi @mohmahfudmd @dr_moeldoko...</td>\n",
       "      <td>0</td>\n",
       "    </tr>\n",
       "    <tr>\n",
       "      <th>7</th>\n",
       "      <td>Mon Aug 14 02:45:10 +0000 2023</td>\n",
       "      <td>jadwal dan lokasi vaksin covid- surabaya hari ...</td>\n",
       "      <td>0</td>\n",
       "    </tr>\n",
       "    <tr>\n",
       "      <th>8</th>\n",
       "      <td>Sat Aug 12 02:34:07 +0000 2023</td>\n",
       "      <td>jadwal dan lokasi vaksin covid- surabaya hari ...</td>\n",
       "      <td>0</td>\n",
       "    </tr>\n",
       "    <tr>\n",
       "      <th>9</th>\n",
       "      <td>Thu Aug 10 02:34:07 +0000 2023</td>\n",
       "      <td>jadwal dan lokasi vaksin covid- surabaya hari ...</td>\n",
       "      <td>0</td>\n",
       "    </tr>\n",
       "  </tbody>\n",
       "</table>\n",
       "</div>"
      ],
      "text/plain": [
       "                       created_at  \\\n",
       "0  Fri Nov 03 03:01:10 +0000 2023   \n",
       "1  Tue Oct 17 01:59:20 +0000 2023   \n",
       "2  Tue Oct 17 01:54:31 +0000 2023   \n",
       "3  Mon Oct 09 02:05:33 +0000 2023   \n",
       "4  Thu Aug 31 13:07:52 +0000 2023   \n",
       "5  Thu Aug 31 13:07:13 +0000 2023   \n",
       "6  Tue Aug 29 03:15:30 +0000 2023   \n",
       "7  Mon Aug 14 02:45:10 +0000 2023   \n",
       "8  Sat Aug 12 02:34:07 +0000 2023   \n",
       "9  Thu Aug 10 02:34:07 +0000 2023   \n",
       "\n",
       "                                           full_text  retweet_count  \n",
       "0  @ferdyan_sn @ltdakbar yg menolak kebijakan glo...              4  \n",
       "1  @kai halo min, ayah saya belum melakukan vaksi...              0  \n",
       "2  @kai halo min, ayah saya belum melakukan vaksi...              0  \n",
       "3  lowongan kerja lidah buaya group  sales  kuali...              0  \n",
       "4  . hal tersebut selaras dengan program pemerint...              0  \n",
       "5  . surabaya (/) dalam karyawan yang sehat terda...              1  \n",
       "6  @ch_chotimah @jokowi @mohmahfudmd @dr_moeldoko...              0  \n",
       "7  jadwal dan lokasi vaksin covid- surabaya hari ...              0  \n",
       "8  jadwal dan lokasi vaksin covid- surabaya hari ...              0  \n",
       "9  jadwal dan lokasi vaksin covid- surabaya hari ...              0  "
      ]
     },
     "execution_count": 13,
     "metadata": {},
     "output_type": "execute_result"
    }
   ],
   "source": [
    "import re\n",
    "import emoji\n",
    "\n",
    "# Fungsi untuk menghapus emoji\n",
    "def remove_emojis(text):\n",
    "    emoji_pattern = re.compile(\"[\"\n",
    "                               u\"\\U0001F600-\\U0001F64F\"  # emoticons\n",
    "                               u\"\\U0001F300-\\U0001F5FF\"  # simbol & transportasi\n",
    "                               u\"\\U0001F680-\\U0001F6FF\"  # ikon bisnis\n",
    "                               u\"\\U0001F700-\\U0001F77F\"  # ikon kantor\n",
    "                               u\"\\U0001F780-\\U0001F7FF\"  # ikon komunikasi\n",
    "                               u\"\\U0001F800-\\U0001F8FF\"  # ikon komputasi\n",
    "                               u\"\\U0001F900-\\U0001F9FF\"  # ikon alat\n",
    "                               u\"\\U0001FA00-\\U0001FA6F\"  # ikon game\n",
    "                               u\"\\U0001FA70-\\U0001FAFF\"  # ikon ekstra\n",
    "                               u\"\\U00002702-\\U000027B0\"  # simbol umum\n",
    "                               u\"\\U000024C2-\\U0001F251\" \n",
    "                               \"]+\", flags=re.UNICODE)\n",
    "    return emoji_pattern.sub(r'', text)\n",
    "\n",
    "# Hapus emoji dari kolom 'full_text'\n",
    "df['full_text'] = df['full_text'].apply(remove_emojis)\n",
    "\n",
    "# Tampilkan DataFrame setelah perubahan\n",
    "df.head(10)"
   ]
  },
  {
   "cell_type": "markdown",
   "metadata": {},
   "source": [
    "### Menghapus mention\n",
    "\n",
    "Mention dihapus karena ketika tanda baca dihilangkan mana akan menghasilkan makna kata yang berbeda dan nama tidak menunjukkan konotasi positif atau negatif"
   ]
  },
  {
   "cell_type": "code",
   "execution_count": 14,
   "metadata": {},
   "outputs": [
    {
     "name": "stdout",
     "output_type": "stream",
     "text": [
      "0       yg menolak kebijakan globalis pasti diincar. i...\n",
      "1       halo min, ayah saya belum melakukan vaksinasi ...\n",
      "2       halo min, ayah saya belum melakukan vaksinasi ...\n",
      "3       lowongan kerja lidah buaya group sales kualifi...\n",
      "4       . hal tersebut selaras dengan program pemerint...\n",
      "                              ...                        \n",
      "1039    kemenkumham jatim, wisnu nugroho dewanto: sine...\n",
      "1040    kemenkumham jatim, wisnu nugroho dewanto: sine...\n",
      "1041    kemenkumham jatim, wisnu nugroho dewanto: sine...\n",
      "1042    kemenkumham jatim, wisnu nugroho dewanto: sine...\n",
      "1043    kemenkumham jatim, wisnu nugroho dewanto: sine...\n",
      "Name: full_text, Length: 1044, dtype: object\n"
     ]
    }
   ],
   "source": [
    "# Fungsi untuk menghapus kata yang diawali dengan \"@\"\n",
    "def remove_mentions(text):\n",
    "    return ' '.join(word for word in text.split() if not word.startswith('@'))\n",
    "\n",
    "# Menggunakan fungsi pada kolom 'full_text'\n",
    "df['full_text'] = df['full_text'].apply(remove_mentions)\n",
    "\n",
    "# Menampilkan hasil\n",
    "print(df['full_text'])"
   ]
  },
  {
   "cell_type": "markdown",
   "metadata": {},
   "source": [
    "### Menghapus Tanda Baca\n",
    "\n",
    "Tanda baca dalam kalimat dihapus karena tidak memiliki pengaruh pada text preprocessing lalu digantikan dengan spasi sehingga jika tanda baca berupa `/` maka akan menghasilkan dua kata.\n",
    "\n",
    "Tanpa spasi\n",
    "Contoh: Booster/vaksin --> Boostervaksin\n",
    "\n",
    "Dengan spasi\n",
    "Contoh: Booster/vaksin --> Booster vaksin\n",
    "\n"
   ]
  },
  {
   "cell_type": "code",
   "execution_count": 15,
   "metadata": {},
   "outputs": [
    {
     "data": {
      "text/html": [
       "<div>\n",
       "<style scoped>\n",
       "    .dataframe tbody tr th:only-of-type {\n",
       "        vertical-align: middle;\n",
       "    }\n",
       "\n",
       "    .dataframe tbody tr th {\n",
       "        vertical-align: top;\n",
       "    }\n",
       "\n",
       "    .dataframe thead th {\n",
       "        text-align: right;\n",
       "    }\n",
       "</style>\n",
       "<table border=\"1\" class=\"dataframe\">\n",
       "  <thead>\n",
       "    <tr style=\"text-align: right;\">\n",
       "      <th></th>\n",
       "      <th>created_at</th>\n",
       "      <th>full_text</th>\n",
       "      <th>retweet_count</th>\n",
       "    </tr>\n",
       "  </thead>\n",
       "  <tbody>\n",
       "    <tr>\n",
       "      <th>0</th>\n",
       "      <td>Fri Nov 03 03:01:10 +0000 2023</td>\n",
       "      <td>yg menolak kebijakan globalis pasti diincar  i...</td>\n",
       "      <td>4</td>\n",
       "    </tr>\n",
       "    <tr>\n",
       "      <th>1</th>\n",
       "      <td>Tue Oct 17 01:59:20 +0000 2023</td>\n",
       "      <td>halo min  ayah saya belum melakukan vaksinasi ...</td>\n",
       "      <td>0</td>\n",
       "    </tr>\n",
       "    <tr>\n",
       "      <th>2</th>\n",
       "      <td>Tue Oct 17 01:54:31 +0000 2023</td>\n",
       "      <td>halo min  ayah saya belum melakukan vaksinasi ...</td>\n",
       "      <td>0</td>\n",
       "    </tr>\n",
       "    <tr>\n",
       "      <th>3</th>\n",
       "      <td>Mon Oct 09 02:05:33 +0000 2023</td>\n",
       "      <td>lowongan kerja lidah buaya group sales kualifi...</td>\n",
       "      <td>0</td>\n",
       "    </tr>\n",
       "    <tr>\n",
       "      <th>4</th>\n",
       "      <td>Thu Aug 31 13:07:52 +0000 2023</td>\n",
       "      <td>hal tersebut selaras dengan program pemerint...</td>\n",
       "      <td>0</td>\n",
       "    </tr>\n",
       "    <tr>\n",
       "      <th>5</th>\n",
       "      <td>Thu Aug 31 13:07:13 +0000 2023</td>\n",
       "      <td>surabaya     dalam karyawan yang sehat terda...</td>\n",
       "      <td>1</td>\n",
       "    </tr>\n",
       "    <tr>\n",
       "      <th>6</th>\n",
       "      <td>Tue Aug 29 03:15:30 +0000 2023</td>\n",
       "      <td>prabowo memang ikut orba pro amerika sby juga ...</td>\n",
       "      <td>0</td>\n",
       "    </tr>\n",
       "    <tr>\n",
       "      <th>7</th>\n",
       "      <td>Mon Aug 14 02:45:10 +0000 2023</td>\n",
       "      <td>jadwal dan lokasi vaksin covid  surabaya hari ...</td>\n",
       "      <td>0</td>\n",
       "    </tr>\n",
       "    <tr>\n",
       "      <th>8</th>\n",
       "      <td>Sat Aug 12 02:34:07 +0000 2023</td>\n",
       "      <td>jadwal dan lokasi vaksin covid  surabaya hari ...</td>\n",
       "      <td>0</td>\n",
       "    </tr>\n",
       "    <tr>\n",
       "      <th>9</th>\n",
       "      <td>Thu Aug 10 02:34:07 +0000 2023</td>\n",
       "      <td>jadwal dan lokasi vaksin covid  surabaya hari ...</td>\n",
       "      <td>0</td>\n",
       "    </tr>\n",
       "  </tbody>\n",
       "</table>\n",
       "</div>"
      ],
      "text/plain": [
       "                       created_at  \\\n",
       "0  Fri Nov 03 03:01:10 +0000 2023   \n",
       "1  Tue Oct 17 01:59:20 +0000 2023   \n",
       "2  Tue Oct 17 01:54:31 +0000 2023   \n",
       "3  Mon Oct 09 02:05:33 +0000 2023   \n",
       "4  Thu Aug 31 13:07:52 +0000 2023   \n",
       "5  Thu Aug 31 13:07:13 +0000 2023   \n",
       "6  Tue Aug 29 03:15:30 +0000 2023   \n",
       "7  Mon Aug 14 02:45:10 +0000 2023   \n",
       "8  Sat Aug 12 02:34:07 +0000 2023   \n",
       "9  Thu Aug 10 02:34:07 +0000 2023   \n",
       "\n",
       "                                           full_text  retweet_count  \n",
       "0  yg menolak kebijakan globalis pasti diincar  i...              4  \n",
       "1  halo min  ayah saya belum melakukan vaksinasi ...              0  \n",
       "2  halo min  ayah saya belum melakukan vaksinasi ...              0  \n",
       "3  lowongan kerja lidah buaya group sales kualifi...              0  \n",
       "4    hal tersebut selaras dengan program pemerint...              0  \n",
       "5    surabaya     dalam karyawan yang sehat terda...              1  \n",
       "6  prabowo memang ikut orba pro amerika sby juga ...              0  \n",
       "7  jadwal dan lokasi vaksin covid  surabaya hari ...              0  \n",
       "8  jadwal dan lokasi vaksin covid  surabaya hari ...              0  \n",
       "9  jadwal dan lokasi vaksin covid  surabaya hari ...              0  "
      ]
     },
     "execution_count": 15,
     "metadata": {},
     "output_type": "execute_result"
    }
   ],
   "source": [
    "# import re\n",
    "\n",
    "# def remove_punctuation(text):\n",
    "#     return re.sub(r'[^\\w\\s]', '', text)\n",
    "\n",
    "# # Menghapus tanda baca dari kolom 'full_text'\n",
    "# df['full_text'] = df['full_text'].apply(remove_punctuation)\n",
    "# df.head(10)\n",
    "\n",
    "import re\n",
    "\n",
    "def replace_punctuation_with_space(text):\n",
    "    return re.sub(r'[^\\w\\s]', ' ', text)\n",
    "\n",
    "# Menggantikan tanda baca dengan spasi pada kolom 'full_text'\n",
    "df['full_text'] = df['full_text'].apply(replace_punctuation_with_space)\n",
    "df.head(10)"
   ]
  },
  {
   "cell_type": "markdown",
   "metadata": {},
   "source": [
    "### Penghapusan URL\n",
    "Menghapus URL dalam teks karena akan mengganggu proses tokenizing"
   ]
  },
  {
   "cell_type": "code",
   "execution_count": 16,
   "metadata": {},
   "outputs": [],
   "source": [
    "import re\n",
    "\n",
    "def remove_urls(text):\n",
    "    url_pattern = re.compile(r'https|https?://\\S+|www\\.\\S+')\n",
    "    return url_pattern.sub(r'', text)\n",
    "\n",
    "\n",
    "# Hapus URL dari kolom 'full_text'\n",
    "df['full_text'] = df['full_text'].apply(remove_urls)\n"
   ]
  },
  {
   "cell_type": "markdown",
   "metadata": {},
   "source": [
    "### Drop Duplicate column full_text"
   ]
  },
  {
   "cell_type": "code",
   "execution_count": 17,
   "metadata": {},
   "outputs": [],
   "source": [
    "# drop duplicates/spams tweets\n",
    "df.drop_duplicates(subset = 'full_text', inplace = True)"
   ]
  },
  {
   "cell_type": "code",
   "execution_count": 18,
   "metadata": {},
   "outputs": [
    {
     "data": {
      "text/plain": [
       "(1044, 3)"
      ]
     },
     "execution_count": 18,
     "metadata": {},
     "output_type": "execute_result"
    }
   ],
   "source": [
    "df.shape"
   ]
  },
  {
   "cell_type": "markdown",
   "metadata": {},
   "source": [
    "### Tokenizing\n",
    "Proses pemisahan teks menjadi potongan-potongan atau disebut token untuk kemudian dianalisa."
   ]
  },
  {
   "cell_type": "markdown",
   "metadata": {},
   "source": [
    "**Word Tokenization NLTK**\n",
    "\n",
    "Menggunakan tokenizing kata dikarenakan output yang diinginkan adalah memodelkan vektor menjadi kata positif, negatif, dan netral.\n",
    "\n",
    "Kami menggunakan NLTK dikarenakan dapat membagi atau memotong kalimat beserta tanda baca dari kata-kata, mampu menghasilkan token yang lebih akurat.\n",
    "\n",
    "Sedangkan tokenization biasa hanya memisahkan kata berdasarkan spasi.  "
   ]
  },
  {
   "cell_type": "markdown",
   "metadata": {},
   "source": [
    "Melihat frekuensi kemunculan pada setiap token menggunakan fungsi FreqDist() yang telah tersedia dalam modul NLTK"
   ]
  },
  {
   "cell_type": "code",
   "execution_count": 19,
   "metadata": {},
   "outputs": [
    {
     "name": "stdout",
     "output_type": "stream",
     "text": [
      "Requirement already satisfied: nltk in c:\\users\\dllse\\appdata\\local\\packages\\pythonsoftwarefoundation.python.3.10_qbz5n2kfra8p0\\localcache\\local-packages\\python310\\site-packages (3.8.1)\n",
      "Requirement already satisfied: click in c:\\users\\dllse\\appdata\\local\\packages\\pythonsoftwarefoundation.python.3.10_qbz5n2kfra8p0\\localcache\\local-packages\\python310\\site-packages (from nltk) (8.1.3)\n",
      "Requirement already satisfied: joblib in c:\\users\\dllse\\appdata\\local\\packages\\pythonsoftwarefoundation.python.3.10_qbz5n2kfra8p0\\localcache\\local-packages\\python310\\site-packages (from nltk) (1.3.2)\n",
      "Requirement already satisfied: regex>=2021.8.3 in c:\\users\\dllse\\appdata\\local\\packages\\pythonsoftwarefoundation.python.3.10_qbz5n2kfra8p0\\localcache\\local-packages\\python310\\site-packages (from nltk) (2023.10.3)\n",
      "Requirement already satisfied: tqdm in c:\\users\\dllse\\appdata\\local\\packages\\pythonsoftwarefoundation.python.3.10_qbz5n2kfra8p0\\localcache\\local-packages\\python310\\site-packages (from nltk) (4.65.0)\n",
      "Requirement already satisfied: colorama in c:\\users\\dllse\\appdata\\local\\packages\\pythonsoftwarefoundation.python.3.10_qbz5n2kfra8p0\\localcache\\local-packages\\python310\\site-packages (from click->nltk) (0.4.6)\n"
     ]
    },
    {
     "name": "stderr",
     "output_type": "stream",
     "text": [
      "\n",
      "[notice] A new release of pip is available: 23.2.1 -> 23.3.1\n",
      "[notice] To update, run: C:\\Users\\dllse\\AppData\\Local\\Microsoft\\WindowsApps\\PythonSoftwareFoundation.Python.3.10_qbz5n2kfra8p0\\python.exe -m pip install --upgrade pip\n"
     ]
    }
   ],
   "source": [
    "!pip install nltk "
   ]
  },
  {
   "cell_type": "code",
   "execution_count": 20,
   "metadata": {},
   "outputs": [
    {
     "name": "stderr",
     "output_type": "stream",
     "text": [
      "[nltk_data] Downloading package punkt to\n",
      "[nltk_data]     C:\\Users\\dllse\\AppData\\Roaming\\nltk_data...\n",
      "[nltk_data]   Package punkt is already up-to-date!\n"
     ]
    },
    {
     "data": {
      "text/html": [
       "<div>\n",
       "<style scoped>\n",
       "    .dataframe tbody tr th:only-of-type {\n",
       "        vertical-align: middle;\n",
       "    }\n",
       "\n",
       "    .dataframe tbody tr th {\n",
       "        vertical-align: top;\n",
       "    }\n",
       "\n",
       "    .dataframe thead th {\n",
       "        text-align: right;\n",
       "    }\n",
       "</style>\n",
       "<table border=\"1\" class=\"dataframe\">\n",
       "  <thead>\n",
       "    <tr style=\"text-align: right;\">\n",
       "      <th></th>\n",
       "      <th>created_at</th>\n",
       "      <th>full_text</th>\n",
       "      <th>retweet_count</th>\n",
       "      <th>token</th>\n",
       "      <th>frequency</th>\n",
       "    </tr>\n",
       "  </thead>\n",
       "  <tbody>\n",
       "    <tr>\n",
       "      <th>0</th>\n",
       "      <td>Fri Nov 03 03:01:10 +0000 2023</td>\n",
       "      <td>yg menolak kebijakan globalis pasti diincar  i...</td>\n",
       "      <td>4</td>\n",
       "      <td>[yg, menolak, kebijakan, globalis, pasti, diin...</td>\n",
       "      <td>{'yg': 1, 'menolak': 3, 'kebijakan': 1, 'globa...</td>\n",
       "    </tr>\n",
       "    <tr>\n",
       "      <th>1</th>\n",
       "      <td>Tue Oct 17 01:59:20 +0000 2023</td>\n",
       "      <td>halo min  ayah saya belum melakukan vaksinasi ...</td>\n",
       "      <td>0</td>\n",
       "      <td>[halo, min, ayah, saya, belum, melakukan, vaks...</td>\n",
       "      <td>{'halo': 1, 'min': 1, 'ayah': 1, 'saya': 1, 'b...</td>\n",
       "    </tr>\n",
       "    <tr>\n",
       "      <th>2</th>\n",
       "      <td>Tue Oct 17 01:54:31 +0000 2023</td>\n",
       "      <td>halo min  ayah saya belum melakukan vaksinasi ...</td>\n",
       "      <td>0</td>\n",
       "      <td>[halo, min, ayah, saya, belum, melakukan, vaks...</td>\n",
       "      <td>{'halo': 1, 'min': 1, 'ayah': 1, 'saya': 1, 'b...</td>\n",
       "    </tr>\n",
       "    <tr>\n",
       "      <th>3</th>\n",
       "      <td>Mon Oct 09 02:05:33 +0000 2023</td>\n",
       "      <td>lowongan kerja lidah buaya group sales kualifi...</td>\n",
       "      <td>0</td>\n",
       "      <td>[lowongan, kerja, lidah, buaya, group, sales, ...</td>\n",
       "      <td>{'lowongan': 1, 'kerja': 1, 'lidah': 1, 'buaya...</td>\n",
       "    </tr>\n",
       "    <tr>\n",
       "      <th>4</th>\n",
       "      <td>Thu Aug 31 13:07:52 +0000 2023</td>\n",
       "      <td>hal tersebut selaras dengan program pemerint...</td>\n",
       "      <td>0</td>\n",
       "      <td>[hal, tersebut, selaras, dengan, program, peme...</td>\n",
       "      <td>{'hal': 1, 'tersebut': 1, 'selaras': 1, 'denga...</td>\n",
       "    </tr>\n",
       "    <tr>\n",
       "      <th>...</th>\n",
       "      <td>...</td>\n",
       "      <td>...</td>\n",
       "      <td>...</td>\n",
       "      <td>...</td>\n",
       "      <td>...</td>\n",
       "    </tr>\n",
       "    <tr>\n",
       "      <th>1039</th>\n",
       "      <td>Wed Mar 02 04:24:44 +0000 2022</td>\n",
       "      <td>kemenkumham jatim  wisnu nugroho dewanto  sine...</td>\n",
       "      <td>0</td>\n",
       "      <td>[kemenkumham, jatim, wisnu, nugroho, dewanto, ...</td>\n",
       "      <td>{'kemenkumham': 1, 'jatim': 1, 'wisnu': 1, 'nu...</td>\n",
       "    </tr>\n",
       "    <tr>\n",
       "      <th>1040</th>\n",
       "      <td>Wed Mar 02 04:24:34 +0000 2022</td>\n",
       "      <td>kemenkumham jatim  wisnu nugroho dewanto  sine...</td>\n",
       "      <td>0</td>\n",
       "      <td>[kemenkumham, jatim, wisnu, nugroho, dewanto, ...</td>\n",
       "      <td>{'kemenkumham': 1, 'jatim': 1, 'wisnu': 1, 'nu...</td>\n",
       "    </tr>\n",
       "    <tr>\n",
       "      <th>1041</th>\n",
       "      <td>Wed Mar 02 04:24:20 +0000 2022</td>\n",
       "      <td>kemenkumham jatim  wisnu nugroho dewanto  sine...</td>\n",
       "      <td>0</td>\n",
       "      <td>[kemenkumham, jatim, wisnu, nugroho, dewanto, ...</td>\n",
       "      <td>{'kemenkumham': 1, 'jatim': 1, 'wisnu': 1, 'nu...</td>\n",
       "    </tr>\n",
       "    <tr>\n",
       "      <th>1042</th>\n",
       "      <td>Wed Mar 02 04:24:09 +0000 2022</td>\n",
       "      <td>kemenkumham jatim  wisnu nugroho dewanto  sine...</td>\n",
       "      <td>0</td>\n",
       "      <td>[kemenkumham, jatim, wisnu, nugroho, dewanto, ...</td>\n",
       "      <td>{'kemenkumham': 1, 'jatim': 1, 'wisnu': 1, 'nu...</td>\n",
       "    </tr>\n",
       "    <tr>\n",
       "      <th>1043</th>\n",
       "      <td>Wed Mar 02 04:23:59 +0000 2022</td>\n",
       "      <td>kemenkumham jatim  wisnu nugroho dewanto  sine...</td>\n",
       "      <td>0</td>\n",
       "      <td>[kemenkumham, jatim, wisnu, nugroho, dewanto, ...</td>\n",
       "      <td>{'kemenkumham': 1, 'jatim': 1, 'wisnu': 1, 'nu...</td>\n",
       "    </tr>\n",
       "  </tbody>\n",
       "</table>\n",
       "<p>1044 rows × 5 columns</p>\n",
       "</div>"
      ],
      "text/plain": [
       "                          created_at  \\\n",
       "0     Fri Nov 03 03:01:10 +0000 2023   \n",
       "1     Tue Oct 17 01:59:20 +0000 2023   \n",
       "2     Tue Oct 17 01:54:31 +0000 2023   \n",
       "3     Mon Oct 09 02:05:33 +0000 2023   \n",
       "4     Thu Aug 31 13:07:52 +0000 2023   \n",
       "...                              ...   \n",
       "1039  Wed Mar 02 04:24:44 +0000 2022   \n",
       "1040  Wed Mar 02 04:24:34 +0000 2022   \n",
       "1041  Wed Mar 02 04:24:20 +0000 2022   \n",
       "1042  Wed Mar 02 04:24:09 +0000 2022   \n",
       "1043  Wed Mar 02 04:23:59 +0000 2022   \n",
       "\n",
       "                                              full_text  retweet_count  \\\n",
       "0     yg menolak kebijakan globalis pasti diincar  i...              4   \n",
       "1     halo min  ayah saya belum melakukan vaksinasi ...              0   \n",
       "2     halo min  ayah saya belum melakukan vaksinasi ...              0   \n",
       "3     lowongan kerja lidah buaya group sales kualifi...              0   \n",
       "4       hal tersebut selaras dengan program pemerint...              0   \n",
       "...                                                 ...            ...   \n",
       "1039  kemenkumham jatim  wisnu nugroho dewanto  sine...              0   \n",
       "1040  kemenkumham jatim  wisnu nugroho dewanto  sine...              0   \n",
       "1041  kemenkumham jatim  wisnu nugroho dewanto  sine...              0   \n",
       "1042  kemenkumham jatim  wisnu nugroho dewanto  sine...              0   \n",
       "1043  kemenkumham jatim  wisnu nugroho dewanto  sine...              0   \n",
       "\n",
       "                                                  token  \\\n",
       "0     [yg, menolak, kebijakan, globalis, pasti, diin...   \n",
       "1     [halo, min, ayah, saya, belum, melakukan, vaks...   \n",
       "2     [halo, min, ayah, saya, belum, melakukan, vaks...   \n",
       "3     [lowongan, kerja, lidah, buaya, group, sales, ...   \n",
       "4     [hal, tersebut, selaras, dengan, program, peme...   \n",
       "...                                                 ...   \n",
       "1039  [kemenkumham, jatim, wisnu, nugroho, dewanto, ...   \n",
       "1040  [kemenkumham, jatim, wisnu, nugroho, dewanto, ...   \n",
       "1041  [kemenkumham, jatim, wisnu, nugroho, dewanto, ...   \n",
       "1042  [kemenkumham, jatim, wisnu, nugroho, dewanto, ...   \n",
       "1043  [kemenkumham, jatim, wisnu, nugroho, dewanto, ...   \n",
       "\n",
       "                                              frequency  \n",
       "0     {'yg': 1, 'menolak': 3, 'kebijakan': 1, 'globa...  \n",
       "1     {'halo': 1, 'min': 1, 'ayah': 1, 'saya': 1, 'b...  \n",
       "2     {'halo': 1, 'min': 1, 'ayah': 1, 'saya': 1, 'b...  \n",
       "3     {'lowongan': 1, 'kerja': 1, 'lidah': 1, 'buaya...  \n",
       "4     {'hal': 1, 'tersebut': 1, 'selaras': 1, 'denga...  \n",
       "...                                                 ...  \n",
       "1039  {'kemenkumham': 1, 'jatim': 1, 'wisnu': 1, 'nu...  \n",
       "1040  {'kemenkumham': 1, 'jatim': 1, 'wisnu': 1, 'nu...  \n",
       "1041  {'kemenkumham': 1, 'jatim': 1, 'wisnu': 1, 'nu...  \n",
       "1042  {'kemenkumham': 1, 'jatim': 1, 'wisnu': 1, 'nu...  \n",
       "1043  {'kemenkumham': 1, 'jatim': 1, 'wisnu': 1, 'nu...  \n",
       "\n",
       "[1044 rows x 5 columns]"
      ]
     },
     "execution_count": 20,
     "metadata": {},
     "output_type": "execute_result"
    }
   ],
   "source": [
    "import nltk\n",
    "from nltk.tokenize import word_tokenize \n",
    "from nltk.probability import FreqDist\n",
    "  \n",
    "# Install dan download jika belum dilakukan\n",
    "nltk.download('punkt')\n",
    "\n",
    "df['token'] = df['full_text'].apply(word_tokenize)\n",
    "\n",
    "# Fungsi untuk menghitung frekuensi dan membuat FreqDist\n",
    "def calculate_frequency(tokens):\n",
    "    fdist = FreqDist(tokens)\n",
    "    return fdist\n",
    "\n",
    "# Menerapkan fungsi untuk menghitung frekuensi pada setiap baris\n",
    "df['frequency'] = df['token'].apply(calculate_frequency)\n",
    "\n",
    "# Menampilkan DataFrame dengan token dan frekuensinya\n",
    "df\n"
   ]
  },
  {
   "cell_type": "markdown",
   "metadata": {},
   "source": [
    "Menampilkan frekuensi kemunculan kata untuk 10 kata pertama menggunakan garfik"
   ]
  },
  {
   "cell_type": "code",
   "execution_count": 21,
   "metadata": {},
   "outputs": [
    {
     "data": {
      "image/png": "[encoded data removed]",
      "text/plain": [
       "<Figure size 1000x600 with 1 Axes>"
      ]
     },
     "metadata": {},
     "output_type": "display_data"
    }
   ],
   "source": [
    "import matplotlib.pyplot as plt\n",
    "\n",
    "# Menggabungkan frekuensi dari semua baris\n",
    "combined_freqdist = FreqDist()\n",
    "for freqdist in df['frequency']:\n",
    "    combined_freqdist += freqdist\n",
    "\n",
    "# Menampilkan grafik distribusi frekuensi untuk 10 kata teratas\n",
    "plt.figure(figsize=(10, 6))\n",
    "combined_freqdist.plot(10, cumulative=False)\n",
    "plt.show()"
   ]
  },
  {
   "cell_type": "markdown",
   "metadata": {},
   "source": [
    "### Filtering (Stopword Removal)\n",
    "\n",
    "Filtering adalah tahap mengambil kata-kata penting dari hasil token dengan menggunakan algoritma stoplist (membuang kata kurang penting) atau wordlist (menyimpan kata penting)."
   ]
  },
  {
   "cell_type": "code",
   "execution_count": 22,
   "metadata": {},
   "outputs": [
    {
     "name": "stdout",
     "output_type": "stream",
     "text": [
      "0       [yg, menolak, kebijakan, globalis, diincar, si...\n",
      "1       [halo, min, ayah, vaksinasi, covid, usia, th, ...\n",
      "2       [halo, min, ayah, vaksinasi, covid, usia, th, ...\n",
      "3       [lowongan, kerja, lidah, buaya, group, sales, ...\n",
      "4       [selaras, program, pemerintah, penanggulangan,...\n",
      "                              ...                        \n",
      "1039    [kemenkumham, jatim, wisnu, nugroho, dewanto, ...\n",
      "1040    [kemenkumham, jatim, wisnu, nugroho, dewanto, ...\n",
      "1041    [kemenkumham, jatim, wisnu, nugroho, dewanto, ...\n",
      "1042    [kemenkumham, jatim, wisnu, nugroho, dewanto, ...\n",
      "1043    [kemenkumham, jatim, wisnu, nugroho, dewanto, ...\n",
      "Name: filtered_token, Length: 1044, dtype: object\n"
     ]
    },
    {
     "name": "stderr",
     "output_type": "stream",
     "text": [
      "[nltk_data] Downloading package stopwords to\n",
      "[nltk_data]     C:\\Users\\dllse\\AppData\\Roaming\\nltk_data...\n",
      "[nltk_data]   Package stopwords is already up-to-date!\n"
     ]
    }
   ],
   "source": [
    "from nltk.corpus import stopwords\n",
    "from nltk.tokenize import word_tokenize\n",
    "\n",
    "nltk.download('stopwords')\n",
    "\n",
    "# Mengambil daftar stopword bahasa Indonesia\n",
    "list_stopword = set(stopwords.words('indonesian'))\n",
    "\n",
    "# Fungsi untuk menghapus stopword dari setiap baris token\n",
    "def remove_stopwords(token):\n",
    "    return [word for word in token if word.lower() not in list_stopword]\n",
    "\n",
    "# Menghapus stopword dari setiap baris\n",
    "df['filtered_token'] = df['token'].apply(remove_stopwords)\n",
    "\n",
    "# Menampilkan hasil setelah penghapusan stopword\n",
    "print(df['filtered_token'])"
   ]
  },
  {
   "cell_type": "code",
   "execution_count": 23,
   "metadata": {},
   "outputs": [
    {
     "data": {
      "text/html": [
       "<div>\n",
       "<style scoped>\n",
       "    .dataframe tbody tr th:only-of-type {\n",
       "        vertical-align: middle;\n",
       "    }\n",
       "\n",
       "    .dataframe tbody tr th {\n",
       "        vertical-align: top;\n",
       "    }\n",
       "\n",
       "    .dataframe thead th {\n",
       "        text-align: right;\n",
       "    }\n",
       "</style>\n",
       "<table border=\"1\" class=\"dataframe\">\n",
       "  <thead>\n",
       "    <tr style=\"text-align: right;\">\n",
       "      <th></th>\n",
       "      <th>created_at</th>\n",
       "      <th>full_text</th>\n",
       "      <th>retweet_count</th>\n",
       "      <th>token</th>\n",
       "      <th>frequency</th>\n",
       "      <th>filtered_token</th>\n",
       "    </tr>\n",
       "  </thead>\n",
       "  <tbody>\n",
       "    <tr>\n",
       "      <th>0</th>\n",
       "      <td>Fri Nov 03 03:01:10 +0000 2023</td>\n",
       "      <td>yg menolak kebijakan globalis pasti diincar  i...</td>\n",
       "      <td>4</td>\n",
       "      <td>[yg, menolak, kebijakan, globalis, pasti, diin...</td>\n",
       "      <td>{'yg': 1, 'menolak': 3, 'kebijakan': 1, 'globa...</td>\n",
       "      <td>[yg, menolak, kebijakan, globalis, diincar, si...</td>\n",
       "    </tr>\n",
       "    <tr>\n",
       "      <th>1</th>\n",
       "      <td>Tue Oct 17 01:59:20 +0000 2023</td>\n",
       "      <td>halo min  ayah saya belum melakukan vaksinasi ...</td>\n",
       "      <td>0</td>\n",
       "      <td>[halo, min, ayah, saya, belum, melakukan, vaks...</td>\n",
       "      <td>{'halo': 1, 'min': 1, 'ayah': 1, 'saya': 1, 'b...</td>\n",
       "      <td>[halo, min, ayah, vaksinasi, covid, usia, th, ...</td>\n",
       "    </tr>\n",
       "    <tr>\n",
       "      <th>2</th>\n",
       "      <td>Tue Oct 17 01:54:31 +0000 2023</td>\n",
       "      <td>halo min  ayah saya belum melakukan vaksinasi ...</td>\n",
       "      <td>0</td>\n",
       "      <td>[halo, min, ayah, saya, belum, melakukan, vaks...</td>\n",
       "      <td>{'halo': 1, 'min': 1, 'ayah': 1, 'saya': 1, 'b...</td>\n",
       "      <td>[halo, min, ayah, vaksinasi, covid, usia, th, ...</td>\n",
       "    </tr>\n",
       "    <tr>\n",
       "      <th>3</th>\n",
       "      <td>Mon Oct 09 02:05:33 +0000 2023</td>\n",
       "      <td>lowongan kerja lidah buaya group sales kualifi...</td>\n",
       "      <td>0</td>\n",
       "      <td>[lowongan, kerja, lidah, buaya, group, sales, ...</td>\n",
       "      <td>{'lowongan': 1, 'kerja': 1, 'lidah': 1, 'buaya...</td>\n",
       "      <td>[lowongan, kerja, lidah, buaya, group, sales, ...</td>\n",
       "    </tr>\n",
       "    <tr>\n",
       "      <th>4</th>\n",
       "      <td>Thu Aug 31 13:07:52 +0000 2023</td>\n",
       "      <td>hal tersebut selaras dengan program pemerint...</td>\n",
       "      <td>0</td>\n",
       "      <td>[hal, tersebut, selaras, dengan, program, peme...</td>\n",
       "      <td>{'hal': 1, 'tersebut': 1, 'selaras': 1, 'denga...</td>\n",
       "      <td>[selaras, program, pemerintah, penanggulangan,...</td>\n",
       "    </tr>\n",
       "    <tr>\n",
       "      <th>5</th>\n",
       "      <td>Thu Aug 31 13:07:13 +0000 2023</td>\n",
       "      <td>surabaya     dalam karyawan yang sehat terda...</td>\n",
       "      <td>1</td>\n",
       "      <td>[surabaya, dalam, karyawan, yang, sehat, terda...</td>\n",
       "      <td>{'surabaya': 2, 'dalam': 1, 'karyawan': 1, 'ya...</td>\n",
       "      <td>[surabaya, karyawan, sehat, semangat, kerja, k...</td>\n",
       "    </tr>\n",
       "    <tr>\n",
       "      <th>6</th>\n",
       "      <td>Tue Aug 29 03:15:30 +0000 2023</td>\n",
       "      <td>prabowo memang ikut orba pro amerika sby juga ...</td>\n",
       "      <td>0</td>\n",
       "      <td>[prabowo, memang, ikut, orba, pro, amerika, sb...</td>\n",
       "      <td>{'prabowo': 2, 'memang': 1, 'ikut': 1, 'orba':...</td>\n",
       "      <td>[prabowo, orba, pro, amerika, sby, pro, amerik...</td>\n",
       "    </tr>\n",
       "    <tr>\n",
       "      <th>7</th>\n",
       "      <td>Mon Aug 14 02:45:10 +0000 2023</td>\n",
       "      <td>jadwal dan lokasi vaksin covid  surabaya hari ...</td>\n",
       "      <td>0</td>\n",
       "      <td>[jadwal, dan, lokasi, vaksin, covid, surabaya,...</td>\n",
       "      <td>{'jadwal': 1, 'dan': 1, 'lokasi': 1, 'vaksin':...</td>\n",
       "      <td>[jadwal, lokasi, vaksin, covid, surabaya, agus...</td>\n",
       "    </tr>\n",
       "    <tr>\n",
       "      <th>8</th>\n",
       "      <td>Sat Aug 12 02:34:07 +0000 2023</td>\n",
       "      <td>jadwal dan lokasi vaksin covid  surabaya hari ...</td>\n",
       "      <td>0</td>\n",
       "      <td>[jadwal, dan, lokasi, vaksin, covid, surabaya,...</td>\n",
       "      <td>{'jadwal': 1, 'dan': 1, 'lokasi': 1, 'vaksin':...</td>\n",
       "      <td>[jadwal, lokasi, vaksin, covid, surabaya, agus...</td>\n",
       "    </tr>\n",
       "  </tbody>\n",
       "</table>\n",
       "</div>"
      ],
      "text/plain": [
       "                       created_at  \\\n",
       "0  Fri Nov 03 03:01:10 +0000 2023   \n",
       "1  Tue Oct 17 01:59:20 +0000 2023   \n",
       "2  Tue Oct 17 01:54:31 +0000 2023   \n",
       "3  Mon Oct 09 02:05:33 +0000 2023   \n",
       "4  Thu Aug 31 13:07:52 +0000 2023   \n",
       "5  Thu Aug 31 13:07:13 +0000 2023   \n",
       "6  Tue Aug 29 03:15:30 +0000 2023   \n",
       "7  Mon Aug 14 02:45:10 +0000 2023   \n",
       "8  Sat Aug 12 02:34:07 +0000 2023   \n",
       "\n",
       "                                           full_text  retweet_count  \\\n",
       "0  yg menolak kebijakan globalis pasti diincar  i...              4   \n",
       "1  halo min  ayah saya belum melakukan vaksinasi ...              0   \n",
       "2  halo min  ayah saya belum melakukan vaksinasi ...              0   \n",
       "3  lowongan kerja lidah buaya group sales kualifi...              0   \n",
       "4    hal tersebut selaras dengan program pemerint...              0   \n",
       "5    surabaya     dalam karyawan yang sehat terda...              1   \n",
       "6  prabowo memang ikut orba pro amerika sby juga ...              0   \n",
       "7  jadwal dan lokasi vaksin covid  surabaya hari ...              0   \n",
       "8  jadwal dan lokasi vaksin covid  surabaya hari ...              0   \n",
       "\n",
       "                                               token  \\\n",
       "0  [yg, menolak, kebijakan, globalis, pasti, diin...   \n",
       "1  [halo, min, ayah, saya, belum, melakukan, vaks...   \n",
       "2  [halo, min, ayah, saya, belum, melakukan, vaks...   \n",
       "3  [lowongan, kerja, lidah, buaya, group, sales, ...   \n",
       "4  [hal, tersebut, selaras, dengan, program, peme...   \n",
       "5  [surabaya, dalam, karyawan, yang, sehat, terda...   \n",
       "6  [prabowo, memang, ikut, orba, pro, amerika, sb...   \n",
       "7  [jadwal, dan, lokasi, vaksin, covid, surabaya,...   \n",
       "8  [jadwal, dan, lokasi, vaksin, covid, surabaya,...   \n",
       "\n",
       "                                           frequency  \\\n",
       "0  {'yg': 1, 'menolak': 3, 'kebijakan': 1, 'globa...   \n",
       "1  {'halo': 1, 'min': 1, 'ayah': 1, 'saya': 1, 'b...   \n",
       "2  {'halo': 1, 'min': 1, 'ayah': 1, 'saya': 1, 'b...   \n",
       "3  {'lowongan': 1, 'kerja': 1, 'lidah': 1, 'buaya...   \n",
       "4  {'hal': 1, 'tersebut': 1, 'selaras': 1, 'denga...   \n",
       "5  {'surabaya': 2, 'dalam': 1, 'karyawan': 1, 'ya...   \n",
       "6  {'prabowo': 2, 'memang': 1, 'ikut': 1, 'orba':...   \n",
       "7  {'jadwal': 1, 'dan': 1, 'lokasi': 1, 'vaksin':...   \n",
       "8  {'jadwal': 1, 'dan': 1, 'lokasi': 1, 'vaksin':...   \n",
       "\n",
       "                                      filtered_token  \n",
       "0  [yg, menolak, kebijakan, globalis, diincar, si...  \n",
       "1  [halo, min, ayah, vaksinasi, covid, usia, th, ...  \n",
       "2  [halo, min, ayah, vaksinasi, covid, usia, th, ...  \n",
       "3  [lowongan, kerja, lidah, buaya, group, sales, ...  \n",
       "4  [selaras, program, pemerintah, penanggulangan,...  \n",
       "5  [surabaya, karyawan, sehat, semangat, kerja, k...  \n",
       "6  [prabowo, orba, pro, amerika, sby, pro, amerik...  \n",
       "7  [jadwal, lokasi, vaksin, covid, surabaya, agus...  \n",
       "8  [jadwal, lokasi, vaksin, covid, surabaya, agus...  "
      ]
     },
     "execution_count": 23,
     "metadata": {},
     "output_type": "execute_result"
    }
   ],
   "source": [
    "df.head(9)"
   ]
  },
  {
   "cell_type": "markdown",
   "metadata": {},
   "source": [
    "### Lemmatize\n",
    "\n",
    "Dilakukan untuk mengubah kata menjadi kata dasar dengan mengetahui konteks dari kata tersebut"
   ]
  },
  {
   "cell_type": "code",
   "execution_count": 24,
   "metadata": {},
   "outputs": [
    {
     "name": "stderr",
     "output_type": "stream",
     "text": [
      "[nltk_data] Downloading package wordnet to\n",
      "[nltk_data]     C:\\Users\\dllse\\AppData\\Roaming\\nltk_data...\n",
      "[nltk_data]   Package wordnet is already up-to-date!\n"
     ]
    }
   ],
   "source": [
    "from nltk.stem import WordNetLemmatizer\n",
    "\n",
    "# Download the WordNet resource\n",
    "nltk.download('wordnet')\n",
    "\n",
    "# Create a lemmatizer object\n",
    "wordnet_lemmatizer = WordNetLemmatizer()\n",
    "\n",
    "def lemmatize(tokens):\n",
    "    lemmatized = [wordnet_lemmatizer.lemmatize(t) for t in tokens]\n",
    "    return lemmatized"
   ]
  },
  {
   "cell_type": "code",
   "execution_count": 25,
   "metadata": {},
   "outputs": [
    {
     "data": {
      "text/html": [
       "<div>\n",
       "<style scoped>\n",
       "    .dataframe tbody tr th:only-of-type {\n",
       "        vertical-align: middle;\n",
       "    }\n",
       "\n",
       "    .dataframe tbody tr th {\n",
       "        vertical-align: top;\n",
       "    }\n",
       "\n",
       "    .dataframe thead th {\n",
       "        text-align: right;\n",
       "    }\n",
       "</style>\n",
       "<table border=\"1\" class=\"dataframe\">\n",
       "  <thead>\n",
       "    <tr style=\"text-align: right;\">\n",
       "      <th></th>\n",
       "      <th>created_at</th>\n",
       "      <th>full_text</th>\n",
       "      <th>retweet_count</th>\n",
       "      <th>token</th>\n",
       "      <th>frequency</th>\n",
       "      <th>filtered_token</th>\n",
       "      <th>lemmatized_tokens</th>\n",
       "    </tr>\n",
       "  </thead>\n",
       "  <tbody>\n",
       "    <tr>\n",
       "      <th>0</th>\n",
       "      <td>Fri Nov 03 03:01:10 +0000 2023</td>\n",
       "      <td>yg menolak kebijakan globalis pasti diincar  i...</td>\n",
       "      <td>4</td>\n",
       "      <td>[yg, menolak, kebijakan, globalis, pasti, diin...</td>\n",
       "      <td>{'yg': 1, 'menolak': 3, 'kebijakan': 1, 'globa...</td>\n",
       "      <td>[yg, menolak, kebijakan, globalis, diincar, si...</td>\n",
       "      <td>[yg, menolak, kebijakan, globalis, diincar, si...</td>\n",
       "    </tr>\n",
       "    <tr>\n",
       "      <th>1</th>\n",
       "      <td>Tue Oct 17 01:59:20 +0000 2023</td>\n",
       "      <td>halo min  ayah saya belum melakukan vaksinasi ...</td>\n",
       "      <td>0</td>\n",
       "      <td>[halo, min, ayah, saya, belum, melakukan, vaks...</td>\n",
       "      <td>{'halo': 1, 'min': 1, 'ayah': 1, 'saya': 1, 'b...</td>\n",
       "      <td>[halo, min, ayah, vaksinasi, covid, usia, th, ...</td>\n",
       "      <td>[halo, min, ayah, vaksinasi, covid, usia, th, ...</td>\n",
       "    </tr>\n",
       "    <tr>\n",
       "      <th>2</th>\n",
       "      <td>Tue Oct 17 01:54:31 +0000 2023</td>\n",
       "      <td>halo min  ayah saya belum melakukan vaksinasi ...</td>\n",
       "      <td>0</td>\n",
       "      <td>[halo, min, ayah, saya, belum, melakukan, vaks...</td>\n",
       "      <td>{'halo': 1, 'min': 1, 'ayah': 1, 'saya': 1, 'b...</td>\n",
       "      <td>[halo, min, ayah, vaksinasi, covid, usia, th, ...</td>\n",
       "      <td>[halo, min, ayah, vaksinasi, covid, usia, th, ...</td>\n",
       "    </tr>\n",
       "    <tr>\n",
       "      <th>3</th>\n",
       "      <td>Mon Oct 09 02:05:33 +0000 2023</td>\n",
       "      <td>lowongan kerja lidah buaya group sales kualifi...</td>\n",
       "      <td>0</td>\n",
       "      <td>[lowongan, kerja, lidah, buaya, group, sales, ...</td>\n",
       "      <td>{'lowongan': 1, 'kerja': 1, 'lidah': 1, 'buaya...</td>\n",
       "      <td>[lowongan, kerja, lidah, buaya, group, sales, ...</td>\n",
       "      <td>[lowongan, kerja, lidah, buaya, group, sale, k...</td>\n",
       "    </tr>\n",
       "    <tr>\n",
       "      <th>4</th>\n",
       "      <td>Thu Aug 31 13:07:52 +0000 2023</td>\n",
       "      <td>hal tersebut selaras dengan program pemerint...</td>\n",
       "      <td>0</td>\n",
       "      <td>[hal, tersebut, selaras, dengan, program, peme...</td>\n",
       "      <td>{'hal': 1, 'tersebut': 1, 'selaras': 1, 'denga...</td>\n",
       "      <td>[selaras, program, pemerintah, penanggulangan,...</td>\n",
       "      <td>[selaras, program, pemerintah, penanggulangan,...</td>\n",
       "    </tr>\n",
       "    <tr>\n",
       "      <th>...</th>\n",
       "      <td>...</td>\n",
       "      <td>...</td>\n",
       "      <td>...</td>\n",
       "      <td>...</td>\n",
       "      <td>...</td>\n",
       "      <td>...</td>\n",
       "      <td>...</td>\n",
       "    </tr>\n",
       "    <tr>\n",
       "      <th>1039</th>\n",
       "      <td>Wed Mar 02 04:24:44 +0000 2022</td>\n",
       "      <td>kemenkumham jatim  wisnu nugroho dewanto  sine...</td>\n",
       "      <td>0</td>\n",
       "      <td>[kemenkumham, jatim, wisnu, nugroho, dewanto, ...</td>\n",
       "      <td>{'kemenkumham': 1, 'jatim': 1, 'wisnu': 1, 'nu...</td>\n",
       "      <td>[kemenkumham, jatim, wisnu, nugroho, dewanto, ...</td>\n",
       "      <td>[kemenkumham, jatim, wisnu, nugroho, dewanto, ...</td>\n",
       "    </tr>\n",
       "    <tr>\n",
       "      <th>1040</th>\n",
       "      <td>Wed Mar 02 04:24:34 +0000 2022</td>\n",
       "      <td>kemenkumham jatim  wisnu nugroho dewanto  sine...</td>\n",
       "      <td>0</td>\n",
       "      <td>[kemenkumham, jatim, wisnu, nugroho, dewanto, ...</td>\n",
       "      <td>{'kemenkumham': 1, 'jatim': 1, 'wisnu': 1, 'nu...</td>\n",
       "      <td>[kemenkumham, jatim, wisnu, nugroho, dewanto, ...</td>\n",
       "      <td>[kemenkumham, jatim, wisnu, nugroho, dewanto, ...</td>\n",
       "    </tr>\n",
       "    <tr>\n",
       "      <th>1041</th>\n",
       "      <td>Wed Mar 02 04:24:20 +0000 2022</td>\n",
       "      <td>kemenkumham jatim  wisnu nugroho dewanto  sine...</td>\n",
       "      <td>0</td>\n",
       "      <td>[kemenkumham, jatim, wisnu, nugroho, dewanto, ...</td>\n",
       "      <td>{'kemenkumham': 1, 'jatim': 1, 'wisnu': 1, 'nu...</td>\n",
       "      <td>[kemenkumham, jatim, wisnu, nugroho, dewanto, ...</td>\n",
       "      <td>[kemenkumham, jatim, wisnu, nugroho, dewanto, ...</td>\n",
       "    </tr>\n",
       "    <tr>\n",
       "      <th>1042</th>\n",
       "      <td>Wed Mar 02 04:24:09 +0000 2022</td>\n",
       "      <td>kemenkumham jatim  wisnu nugroho dewanto  sine...</td>\n",
       "      <td>0</td>\n",
       "      <td>[kemenkumham, jatim, wisnu, nugroho, dewanto, ...</td>\n",
       "      <td>{'kemenkumham': 1, 'jatim': 1, 'wisnu': 1, 'nu...</td>\n",
       "      <td>[kemenkumham, jatim, wisnu, nugroho, dewanto, ...</td>\n",
       "      <td>[kemenkumham, jatim, wisnu, nugroho, dewanto, ...</td>\n",
       "    </tr>\n",
       "    <tr>\n",
       "      <th>1043</th>\n",
       "      <td>Wed Mar 02 04:23:59 +0000 2022</td>\n",
       "      <td>kemenkumham jatim  wisnu nugroho dewanto  sine...</td>\n",
       "      <td>0</td>\n",
       "      <td>[kemenkumham, jatim, wisnu, nugroho, dewanto, ...</td>\n",
       "      <td>{'kemenkumham': 1, 'jatim': 1, 'wisnu': 1, 'nu...</td>\n",
       "      <td>[kemenkumham, jatim, wisnu, nugroho, dewanto, ...</td>\n",
       "      <td>[kemenkumham, jatim, wisnu, nugroho, dewanto, ...</td>\n",
       "    </tr>\n",
       "  </tbody>\n",
       "</table>\n",
       "<p>1044 rows × 7 columns</p>\n",
       "</div>"
      ],
      "text/plain": [
       "                          created_at  \\\n",
       "0     Fri Nov 03 03:01:10 +0000 2023   \n",
       "1     Tue Oct 17 01:59:20 +0000 2023   \n",
       "2     Tue Oct 17 01:54:31 +0000 2023   \n",
       "3     Mon Oct 09 02:05:33 +0000 2023   \n",
       "4     Thu Aug 31 13:07:52 +0000 2023   \n",
       "...                              ...   \n",
       "1039  Wed Mar 02 04:24:44 +0000 2022   \n",
       "1040  Wed Mar 02 04:24:34 +0000 2022   \n",
       "1041  Wed Mar 02 04:24:20 +0000 2022   \n",
       "1042  Wed Mar 02 04:24:09 +0000 2022   \n",
       "1043  Wed Mar 02 04:23:59 +0000 2022   \n",
       "\n",
       "                                              full_text  retweet_count  \\\n",
       "0     yg menolak kebijakan globalis pasti diincar  i...              4   \n",
       "1     halo min  ayah saya belum melakukan vaksinasi ...              0   \n",
       "2     halo min  ayah saya belum melakukan vaksinasi ...              0   \n",
       "3     lowongan kerja lidah buaya group sales kualifi...              0   \n",
       "4       hal tersebut selaras dengan program pemerint...              0   \n",
       "...                                                 ...            ...   \n",
       "1039  kemenkumham jatim  wisnu nugroho dewanto  sine...              0   \n",
       "1040  kemenkumham jatim  wisnu nugroho dewanto  sine...              0   \n",
       "1041  kemenkumham jatim  wisnu nugroho dewanto  sine...              0   \n",
       "1042  kemenkumham jatim  wisnu nugroho dewanto  sine...              0   \n",
       "1043  kemenkumham jatim  wisnu nugroho dewanto  sine...              0   \n",
       "\n",
       "                                                  token  \\\n",
       "0     [yg, menolak, kebijakan, globalis, pasti, diin...   \n",
       "1     [halo, min, ayah, saya, belum, melakukan, vaks...   \n",
       "2     [halo, min, ayah, saya, belum, melakukan, vaks...   \n",
       "3     [lowongan, kerja, lidah, buaya, group, sales, ...   \n",
       "4     [hal, tersebut, selaras, dengan, program, peme...   \n",
       "...                                                 ...   \n",
       "1039  [kemenkumham, jatim, wisnu, nugroho, dewanto, ...   \n",
       "1040  [kemenkumham, jatim, wisnu, nugroho, dewanto, ...   \n",
       "1041  [kemenkumham, jatim, wisnu, nugroho, dewanto, ...   \n",
       "1042  [kemenkumham, jatim, wisnu, nugroho, dewanto, ...   \n",
       "1043  [kemenkumham, jatim, wisnu, nugroho, dewanto, ...   \n",
       "\n",
       "                                              frequency  \\\n",
       "0     {'yg': 1, 'menolak': 3, 'kebijakan': 1, 'globa...   \n",
       "1     {'halo': 1, 'min': 1, 'ayah': 1, 'saya': 1, 'b...   \n",
       "2     {'halo': 1, 'min': 1, 'ayah': 1, 'saya': 1, 'b...   \n",
       "3     {'lowongan': 1, 'kerja': 1, 'lidah': 1, 'buaya...   \n",
       "4     {'hal': 1, 'tersebut': 1, 'selaras': 1, 'denga...   \n",
       "...                                                 ...   \n",
       "1039  {'kemenkumham': 1, 'jatim': 1, 'wisnu': 1, 'nu...   \n",
       "1040  {'kemenkumham': 1, 'jatim': 1, 'wisnu': 1, 'nu...   \n",
       "1041  {'kemenkumham': 1, 'jatim': 1, 'wisnu': 1, 'nu...   \n",
       "1042  {'kemenkumham': 1, 'jatim': 1, 'wisnu': 1, 'nu...   \n",
       "1043  {'kemenkumham': 1, 'jatim': 1, 'wisnu': 1, 'nu...   \n",
       "\n",
       "                                         filtered_token  \\\n",
       "0     [yg, menolak, kebijakan, globalis, diincar, si...   \n",
       "1     [halo, min, ayah, vaksinasi, covid, usia, th, ...   \n",
       "2     [halo, min, ayah, vaksinasi, covid, usia, th, ...   \n",
       "3     [lowongan, kerja, lidah, buaya, group, sales, ...   \n",
       "4     [selaras, program, pemerintah, penanggulangan,...   \n",
       "...                                                 ...   \n",
       "1039  [kemenkumham, jatim, wisnu, nugroho, dewanto, ...   \n",
       "1040  [kemenkumham, jatim, wisnu, nugroho, dewanto, ...   \n",
       "1041  [kemenkumham, jatim, wisnu, nugroho, dewanto, ...   \n",
       "1042  [kemenkumham, jatim, wisnu, nugroho, dewanto, ...   \n",
       "1043  [kemenkumham, jatim, wisnu, nugroho, dewanto, ...   \n",
       "\n",
       "                                      lemmatized_tokens  \n",
       "0     [yg, menolak, kebijakan, globalis, diincar, si...  \n",
       "1     [halo, min, ayah, vaksinasi, covid, usia, th, ...  \n",
       "2     [halo, min, ayah, vaksinasi, covid, usia, th, ...  \n",
       "3     [lowongan, kerja, lidah, buaya, group, sale, k...  \n",
       "4     [selaras, program, pemerintah, penanggulangan,...  \n",
       "...                                                 ...  \n",
       "1039  [kemenkumham, jatim, wisnu, nugroho, dewanto, ...  \n",
       "1040  [kemenkumham, jatim, wisnu, nugroho, dewanto, ...  \n",
       "1041  [kemenkumham, jatim, wisnu, nugroho, dewanto, ...  \n",
       "1042  [kemenkumham, jatim, wisnu, nugroho, dewanto, ...  \n",
       "1043  [kemenkumham, jatim, wisnu, nugroho, dewanto, ...  \n",
       "\n",
       "[1044 rows x 7 columns]"
      ]
     },
     "execution_count": 25,
     "metadata": {},
     "output_type": "execute_result"
    }
   ],
   "source": [
    "df['lemmatized_tokens'] = df['filtered_token'].apply(lemmatize)\n",
    "df"
   ]
  },
  {
   "cell_type": "markdown",
   "metadata": {},
   "source": [
    "### Stemming\n",
    "\n",
    "Stemming mengubah suatu kata menjadi kata dasar tanpa mengetahui konteks dari kata tersebut seperti memotong ujung kata-kata"
   ]
  },
  {
   "cell_type": "code",
   "execution_count": 26,
   "metadata": {},
   "outputs": [
    {
     "data": {
      "text/html": [
       "<div>\n",
       "<style scoped>\n",
       "    .dataframe tbody tr th:only-of-type {\n",
       "        vertical-align: middle;\n",
       "    }\n",
       "\n",
       "    .dataframe tbody tr th {\n",
       "        vertical-align: top;\n",
       "    }\n",
       "\n",
       "    .dataframe thead th {\n",
       "        text-align: right;\n",
       "    }\n",
       "</style>\n",
       "<table border=\"1\" class=\"dataframe\">\n",
       "  <thead>\n",
       "    <tr style=\"text-align: right;\">\n",
       "      <th></th>\n",
       "      <th>created_at</th>\n",
       "      <th>full_text</th>\n",
       "      <th>retweet_count</th>\n",
       "      <th>token</th>\n",
       "      <th>frequency</th>\n",
       "      <th>filtered_token</th>\n",
       "      <th>lemmatized_tokens</th>\n",
       "      <th>stemmed_tokens</th>\n",
       "    </tr>\n",
       "  </thead>\n",
       "  <tbody>\n",
       "    <tr>\n",
       "      <th>0</th>\n",
       "      <td>Fri Nov 03 03:01:10 +0000 2023</td>\n",
       "      <td>yg menolak kebijakan globalis pasti diincar  i...</td>\n",
       "      <td>4</td>\n",
       "      <td>[yg, menolak, kebijakan, globalis, pasti, diin...</td>\n",
       "      <td>{'yg': 1, 'menolak': 3, 'kebijakan': 1, 'globa...</td>\n",
       "      <td>[yg, menolak, kebijakan, globalis, diincar, si...</td>\n",
       "      <td>[yg, menolak, kebijakan, globalis, diincar, si...</td>\n",
       "      <td>[yg, tolak, bijak, global, incar, siti, fadila...</td>\n",
       "    </tr>\n",
       "    <tr>\n",
       "      <th>1</th>\n",
       "      <td>Tue Oct 17 01:59:20 +0000 2023</td>\n",
       "      <td>halo min  ayah saya belum melakukan vaksinasi ...</td>\n",
       "      <td>0</td>\n",
       "      <td>[halo, min, ayah, saya, belum, melakukan, vaks...</td>\n",
       "      <td>{'halo': 1, 'min': 1, 'ayah': 1, 'saya': 1, 'b...</td>\n",
       "      <td>[halo, min, ayah, vaksinasi, covid, usia, th, ...</td>\n",
       "      <td>[halo, min, ayah, vaksinasi, covid, usia, th, ...</td>\n",
       "      <td>[halo, min, ayah, vaksinasi, covid, usia, th, ...</td>\n",
       "    </tr>\n",
       "    <tr>\n",
       "      <th>2</th>\n",
       "      <td>Tue Oct 17 01:54:31 +0000 2023</td>\n",
       "      <td>halo min  ayah saya belum melakukan vaksinasi ...</td>\n",
       "      <td>0</td>\n",
       "      <td>[halo, min, ayah, saya, belum, melakukan, vaks...</td>\n",
       "      <td>{'halo': 1, 'min': 1, 'ayah': 1, 'saya': 1, 'b...</td>\n",
       "      <td>[halo, min, ayah, vaksinasi, covid, usia, th, ...</td>\n",
       "      <td>[halo, min, ayah, vaksinasi, covid, usia, th, ...</td>\n",
       "      <td>[halo, min, ayah, vaksinasi, covid, usia, th, ...</td>\n",
       "    </tr>\n",
       "    <tr>\n",
       "      <th>3</th>\n",
       "      <td>Mon Oct 09 02:05:33 +0000 2023</td>\n",
       "      <td>lowongan kerja lidah buaya group sales kualifi...</td>\n",
       "      <td>0</td>\n",
       "      <td>[lowongan, kerja, lidah, buaya, group, sales, ...</td>\n",
       "      <td>{'lowongan': 1, 'kerja': 1, 'lidah': 1, 'buaya...</td>\n",
       "      <td>[lowongan, kerja, lidah, buaya, group, sales, ...</td>\n",
       "      <td>[lowongan, kerja, lidah, buaya, group, sale, k...</td>\n",
       "      <td>[lowong, kerja, lidah, buaya, group, sale, kua...</td>\n",
       "    </tr>\n",
       "    <tr>\n",
       "      <th>4</th>\n",
       "      <td>Thu Aug 31 13:07:52 +0000 2023</td>\n",
       "      <td>hal tersebut selaras dengan program pemerint...</td>\n",
       "      <td>0</td>\n",
       "      <td>[hal, tersebut, selaras, dengan, program, peme...</td>\n",
       "      <td>{'hal': 1, 'tersebut': 1, 'selaras': 1, 'denga...</td>\n",
       "      <td>[selaras, program, pemerintah, penanggulangan,...</td>\n",
       "      <td>[selaras, program, pemerintah, penanggulangan,...</td>\n",
       "      <td>[selaras, program, perintah, tanggulang, sakit...</td>\n",
       "    </tr>\n",
       "    <tr>\n",
       "      <th>...</th>\n",
       "      <td>...</td>\n",
       "      <td>...</td>\n",
       "      <td>...</td>\n",
       "      <td>...</td>\n",
       "      <td>...</td>\n",
       "      <td>...</td>\n",
       "      <td>...</td>\n",
       "      <td>...</td>\n",
       "    </tr>\n",
       "    <tr>\n",
       "      <th>1039</th>\n",
       "      <td>Wed Mar 02 04:24:44 +0000 2022</td>\n",
       "      <td>kemenkumham jatim  wisnu nugroho dewanto  sine...</td>\n",
       "      <td>0</td>\n",
       "      <td>[kemenkumham, jatim, wisnu, nugroho, dewanto, ...</td>\n",
       "      <td>{'kemenkumham': 1, 'jatim': 1, 'wisnu': 1, 'nu...</td>\n",
       "      <td>[kemenkumham, jatim, wisnu, nugroho, dewanto, ...</td>\n",
       "      <td>[kemenkumham, jatim, wisnu, nugroho, dewanto, ...</td>\n",
       "      <td>[kemenkumham, jatim, wisnu, nugroho, dewanto, ...</td>\n",
       "    </tr>\n",
       "    <tr>\n",
       "      <th>1040</th>\n",
       "      <td>Wed Mar 02 04:24:34 +0000 2022</td>\n",
       "      <td>kemenkumham jatim  wisnu nugroho dewanto  sine...</td>\n",
       "      <td>0</td>\n",
       "      <td>[kemenkumham, jatim, wisnu, nugroho, dewanto, ...</td>\n",
       "      <td>{'kemenkumham': 1, 'jatim': 1, 'wisnu': 1, 'nu...</td>\n",
       "      <td>[kemenkumham, jatim, wisnu, nugroho, dewanto, ...</td>\n",
       "      <td>[kemenkumham, jatim, wisnu, nugroho, dewanto, ...</td>\n",
       "      <td>[kemenkumham, jatim, wisnu, nugroho, dewanto, ...</td>\n",
       "    </tr>\n",
       "    <tr>\n",
       "      <th>1041</th>\n",
       "      <td>Wed Mar 02 04:24:20 +0000 2022</td>\n",
       "      <td>kemenkumham jatim  wisnu nugroho dewanto  sine...</td>\n",
       "      <td>0</td>\n",
       "      <td>[kemenkumham, jatim, wisnu, nugroho, dewanto, ...</td>\n",
       "      <td>{'kemenkumham': 1, 'jatim': 1, 'wisnu': 1, 'nu...</td>\n",
       "      <td>[kemenkumham, jatim, wisnu, nugroho, dewanto, ...</td>\n",
       "      <td>[kemenkumham, jatim, wisnu, nugroho, dewanto, ...</td>\n",
       "      <td>[kemenkumham, jatim, wisnu, nugroho, dewanto, ...</td>\n",
       "    </tr>\n",
       "    <tr>\n",
       "      <th>1042</th>\n",
       "      <td>Wed Mar 02 04:24:09 +0000 2022</td>\n",
       "      <td>kemenkumham jatim  wisnu nugroho dewanto  sine...</td>\n",
       "      <td>0</td>\n",
       "      <td>[kemenkumham, jatim, wisnu, nugroho, dewanto, ...</td>\n",
       "      <td>{'kemenkumham': 1, 'jatim': 1, 'wisnu': 1, 'nu...</td>\n",
       "      <td>[kemenkumham, jatim, wisnu, nugroho, dewanto, ...</td>\n",
       "      <td>[kemenkumham, jatim, wisnu, nugroho, dewanto, ...</td>\n",
       "      <td>[kemenkumham, jatim, wisnu, nugroho, dewanto, ...</td>\n",
       "    </tr>\n",
       "    <tr>\n",
       "      <th>1043</th>\n",
       "      <td>Wed Mar 02 04:23:59 +0000 2022</td>\n",
       "      <td>kemenkumham jatim  wisnu nugroho dewanto  sine...</td>\n",
       "      <td>0</td>\n",
       "      <td>[kemenkumham, jatim, wisnu, nugroho, dewanto, ...</td>\n",
       "      <td>{'kemenkumham': 1, 'jatim': 1, 'wisnu': 1, 'nu...</td>\n",
       "      <td>[kemenkumham, jatim, wisnu, nugroho, dewanto, ...</td>\n",
       "      <td>[kemenkumham, jatim, wisnu, nugroho, dewanto, ...</td>\n",
       "      <td>[kemenkumham, jatim, wisnu, nugroho, dewanto, ...</td>\n",
       "    </tr>\n",
       "  </tbody>\n",
       "</table>\n",
       "<p>1044 rows × 8 columns</p>\n",
       "</div>"
      ],
      "text/plain": [
       "                          created_at  \\\n",
       "0     Fri Nov 03 03:01:10 +0000 2023   \n",
       "1     Tue Oct 17 01:59:20 +0000 2023   \n",
       "2     Tue Oct 17 01:54:31 +0000 2023   \n",
       "3     Mon Oct 09 02:05:33 +0000 2023   \n",
       "4     Thu Aug 31 13:07:52 +0000 2023   \n",
       "...                              ...   \n",
       "1039  Wed Mar 02 04:24:44 +0000 2022   \n",
       "1040  Wed Mar 02 04:24:34 +0000 2022   \n",
       "1041  Wed Mar 02 04:24:20 +0000 2022   \n",
       "1042  Wed Mar 02 04:24:09 +0000 2022   \n",
       "1043  Wed Mar 02 04:23:59 +0000 2022   \n",
       "\n",
       "                                              full_text  retweet_count  \\\n",
       "0     yg menolak kebijakan globalis pasti diincar  i...              4   \n",
       "1     halo min  ayah saya belum melakukan vaksinasi ...              0   \n",
       "2     halo min  ayah saya belum melakukan vaksinasi ...              0   \n",
       "3     lowongan kerja lidah buaya group sales kualifi...              0   \n",
       "4       hal tersebut selaras dengan program pemerint...              0   \n",
       "...                                                 ...            ...   \n",
       "1039  kemenkumham jatim  wisnu nugroho dewanto  sine...              0   \n",
       "1040  kemenkumham jatim  wisnu nugroho dewanto  sine...              0   \n",
       "1041  kemenkumham jatim  wisnu nugroho dewanto  sine...              0   \n",
       "1042  kemenkumham jatim  wisnu nugroho dewanto  sine...              0   \n",
       "1043  kemenkumham jatim  wisnu nugroho dewanto  sine...              0   \n",
       "\n",
       "                                                  token  \\\n",
       "0     [yg, menolak, kebijakan, globalis, pasti, diin...   \n",
       "1     [halo, min, ayah, saya, belum, melakukan, vaks...   \n",
       "2     [halo, min, ayah, saya, belum, melakukan, vaks...   \n",
       "3     [lowongan, kerja, lidah, buaya, group, sales, ...   \n",
       "4     [hal, tersebut, selaras, dengan, program, peme...   \n",
       "...                                                 ...   \n",
       "1039  [kemenkumham, jatim, wisnu, nugroho, dewanto, ...   \n",
       "1040  [kemenkumham, jatim, wisnu, nugroho, dewanto, ...   \n",
       "1041  [kemenkumham, jatim, wisnu, nugroho, dewanto, ...   \n",
       "1042  [kemenkumham, jatim, wisnu, nugroho, dewanto, ...   \n",
       "1043  [kemenkumham, jatim, wisnu, nugroho, dewanto, ...   \n",
       "\n",
       "                                              frequency  \\\n",
       "0     {'yg': 1, 'menolak': 3, 'kebijakan': 1, 'globa...   \n",
       "1     {'halo': 1, 'min': 1, 'ayah': 1, 'saya': 1, 'b...   \n",
       "2     {'halo': 1, 'min': 1, 'ayah': 1, 'saya': 1, 'b...   \n",
       "3     {'lowongan': 1, 'kerja': 1, 'lidah': 1, 'buaya...   \n",
       "4     {'hal': 1, 'tersebut': 1, 'selaras': 1, 'denga...   \n",
       "...                                                 ...   \n",
       "1039  {'kemenkumham': 1, 'jatim': 1, 'wisnu': 1, 'nu...   \n",
       "1040  {'kemenkumham': 1, 'jatim': 1, 'wisnu': 1, 'nu...   \n",
       "1041  {'kemenkumham': 1, 'jatim': 1, 'wisnu': 1, 'nu...   \n",
       "1042  {'kemenkumham': 1, 'jatim': 1, 'wisnu': 1, 'nu...   \n",
       "1043  {'kemenkumham': 1, 'jatim': 1, 'wisnu': 1, 'nu...   \n",
       "\n",
       "                                         filtered_token  \\\n",
       "0     [yg, menolak, kebijakan, globalis, diincar, si...   \n",
       "1     [halo, min, ayah, vaksinasi, covid, usia, th, ...   \n",
       "2     [halo, min, ayah, vaksinasi, covid, usia, th, ...   \n",
       "3     [lowongan, kerja, lidah, buaya, group, sales, ...   \n",
       "4     [selaras, program, pemerintah, penanggulangan,...   \n",
       "...                                                 ...   \n",
       "1039  [kemenkumham, jatim, wisnu, nugroho, dewanto, ...   \n",
       "1040  [kemenkumham, jatim, wisnu, nugroho, dewanto, ...   \n",
       "1041  [kemenkumham, jatim, wisnu, nugroho, dewanto, ...   \n",
       "1042  [kemenkumham, jatim, wisnu, nugroho, dewanto, ...   \n",
       "1043  [kemenkumham, jatim, wisnu, nugroho, dewanto, ...   \n",
       "\n",
       "                                      lemmatized_tokens  \\\n",
       "0     [yg, menolak, kebijakan, globalis, diincar, si...   \n",
       "1     [halo, min, ayah, vaksinasi, covid, usia, th, ...   \n",
       "2     [halo, min, ayah, vaksinasi, covid, usia, th, ...   \n",
       "3     [lowongan, kerja, lidah, buaya, group, sale, k...   \n",
       "4     [selaras, program, pemerintah, penanggulangan,...   \n",
       "...                                                 ...   \n",
       "1039  [kemenkumham, jatim, wisnu, nugroho, dewanto, ...   \n",
       "1040  [kemenkumham, jatim, wisnu, nugroho, dewanto, ...   \n",
       "1041  [kemenkumham, jatim, wisnu, nugroho, dewanto, ...   \n",
       "1042  [kemenkumham, jatim, wisnu, nugroho, dewanto, ...   \n",
       "1043  [kemenkumham, jatim, wisnu, nugroho, dewanto, ...   \n",
       "\n",
       "                                         stemmed_tokens  \n",
       "0     [yg, tolak, bijak, global, incar, siti, fadila...  \n",
       "1     [halo, min, ayah, vaksinasi, covid, usia, th, ...  \n",
       "2     [halo, min, ayah, vaksinasi, covid, usia, th, ...  \n",
       "3     [lowong, kerja, lidah, buaya, group, sale, kua...  \n",
       "4     [selaras, program, perintah, tanggulang, sakit...  \n",
       "...                                                 ...  \n",
       "1039  [kemenkumham, jatim, wisnu, nugroho, dewanto, ...  \n",
       "1040  [kemenkumham, jatim, wisnu, nugroho, dewanto, ...  \n",
       "1041  [kemenkumham, jatim, wisnu, nugroho, dewanto, ...  \n",
       "1042  [kemenkumham, jatim, wisnu, nugroho, dewanto, ...  \n",
       "1043  [kemenkumham, jatim, wisnu, nugroho, dewanto, ...  \n",
       "\n",
       "[1044 rows x 8 columns]"
      ]
     },
     "execution_count": 26,
     "metadata": {},
     "output_type": "execute_result"
    }
   ],
   "source": [
    "from Sastrawi.Stemmer.StemmerFactory import StemmerFactory\n",
    "\n",
    "factory = StemmerFactory()\n",
    "stemmer = factory.create_stemmer()\n",
    "\n",
    "df['stemmed_tokens'] = df['lemmatized_tokens'].apply(lambda tokens: [stemmer.stem(token) for token in tokens])\n",
    "df"
   ]
  },
  {
   "cell_type": "markdown",
   "metadata": {},
   "source": [
    "### Grouping"
   ]
  },
  {
   "cell_type": "code",
   "execution_count": 27,
   "metadata": {},
   "outputs": [],
   "source": [
    "import csv\n",
    "\n",
    "lexicon_positive = dict()\n",
    "with open('F:/KULIAHHH/Semester 5/AI/Tugas/crawling/positive.csv', 'r') as csvfile:\n",
    "    reader = csv.reader(csvfile, delimiter=',')\n",
    "    header = next(reader, None)\n",
    "    for row in reader:\n",
    "        lexicon_positive[row[0]] = int(row[1])\n",
    "\n",
    "lexicon_negative = dict()\n",
    "with open('F:/KULIAHHH/Semester 5/AI/Tugas/crawling/negative.csv', 'r') as csvfile:\n",
    "    reader = csv.reader(csvfile, delimiter=',')\n",
    "    header = next(reader, None)\n",
    "    for row in reader:\n",
    "        lexicon_negative[row[0]] = int(row[1])\n",
    "        \n",
    "# Function to determine sentiment polarity of tweets        \n",
    "def sentiment_analysis_lexicon_indonesia(text):\n",
    "    #for word in text:\n",
    "    score = 0\n",
    "    for word in text:\n",
    "        if (word in lexicon_positive):\n",
    "            score = score + lexicon_positive[word]\n",
    "    for word in text:\n",
    "        if (word in lexicon_negative):\n",
    "            score = score + lexicon_negative[word]\n",
    "    polarity=''\n",
    "    if (score > 0):\n",
    "        polarity = 'positive'\n",
    "    elif (score < 0):\n",
    "        polarity = 'negative'\n",
    "    else:\n",
    "        polarity = 'neutral'\n",
    "    return score, polarity"
   ]
  },
  {
   "cell_type": "code",
   "execution_count": 28,
   "metadata": {},
   "outputs": [
    {
     "name": "stdout",
     "output_type": "stream",
     "text": [
      "neutral     761\n",
      "negative    144\n",
      "positive    139\n",
      "Name: polarity, dtype: int64\n"
     ]
    },
    {
     "data": {
      "text/html": [
       "<div>\n",
       "<style scoped>\n",
       "    .dataframe tbody tr th:only-of-type {\n",
       "        vertical-align: middle;\n",
       "    }\n",
       "\n",
       "    .dataframe tbody tr th {\n",
       "        vertical-align: top;\n",
       "    }\n",
       "\n",
       "    .dataframe thead th {\n",
       "        text-align: right;\n",
       "    }\n",
       "</style>\n",
       "<table border=\"1\" class=\"dataframe\">\n",
       "  <thead>\n",
       "    <tr style=\"text-align: right;\">\n",
       "      <th></th>\n",
       "      <th>created_at</th>\n",
       "      <th>full_text</th>\n",
       "      <th>retweet_count</th>\n",
       "      <th>token</th>\n",
       "      <th>frequency</th>\n",
       "      <th>filtered_token</th>\n",
       "      <th>lemmatized_tokens</th>\n",
       "      <th>stemmed_tokens</th>\n",
       "      <th>polarity_score</th>\n",
       "      <th>polarity</th>\n",
       "    </tr>\n",
       "  </thead>\n",
       "  <tbody>\n",
       "    <tr>\n",
       "      <th>0</th>\n",
       "      <td>Fri Nov 03 03:01:10 +0000 2023</td>\n",
       "      <td>yg menolak kebijakan globalis pasti diincar  i...</td>\n",
       "      <td>4</td>\n",
       "      <td>[yg, menolak, kebijakan, globalis, pasti, diin...</td>\n",
       "      <td>{'yg': 1, 'menolak': 3, 'kebijakan': 1, 'globa...</td>\n",
       "      <td>[yg, menolak, kebijakan, globalis, diincar, si...</td>\n",
       "      <td>[yg, menolak, kebijakan, globalis, diincar, si...</td>\n",
       "      <td>[yg, tolak, bijak, global, incar, siti, fadila...</td>\n",
       "      <td>-31</td>\n",
       "      <td>negative</td>\n",
       "    </tr>\n",
       "    <tr>\n",
       "      <th>1</th>\n",
       "      <td>Tue Oct 17 01:59:20 +0000 2023</td>\n",
       "      <td>halo min  ayah saya belum melakukan vaksinasi ...</td>\n",
       "      <td>0</td>\n",
       "      <td>[halo, min, ayah, saya, belum, melakukan, vaks...</td>\n",
       "      <td>{'halo': 1, 'min': 1, 'ayah': 1, 'saya': 1, 'b...</td>\n",
       "      <td>[halo, min, ayah, vaksinasi, covid, usia, th, ...</td>\n",
       "      <td>[halo, min, ayah, vaksinasi, covid, usia, th, ...</td>\n",
       "      <td>[halo, min, ayah, vaksinasi, covid, usia, th, ...</td>\n",
       "      <td>1</td>\n",
       "      <td>positive</td>\n",
       "    </tr>\n",
       "    <tr>\n",
       "      <th>2</th>\n",
       "      <td>Tue Oct 17 01:54:31 +0000 2023</td>\n",
       "      <td>halo min  ayah saya belum melakukan vaksinasi ...</td>\n",
       "      <td>0</td>\n",
       "      <td>[halo, min, ayah, saya, belum, melakukan, vaks...</td>\n",
       "      <td>{'halo': 1, 'min': 1, 'ayah': 1, 'saya': 1, 'b...</td>\n",
       "      <td>[halo, min, ayah, vaksinasi, covid, usia, th, ...</td>\n",
       "      <td>[halo, min, ayah, vaksinasi, covid, usia, th, ...</td>\n",
       "      <td>[halo, min, ayah, vaksinasi, covid, usia, th, ...</td>\n",
       "      <td>1</td>\n",
       "      <td>positive</td>\n",
       "    </tr>\n",
       "    <tr>\n",
       "      <th>3</th>\n",
       "      <td>Mon Oct 09 02:05:33 +0000 2023</td>\n",
       "      <td>lowongan kerja lidah buaya group sales kualifi...</td>\n",
       "      <td>0</td>\n",
       "      <td>[lowongan, kerja, lidah, buaya, group, sales, ...</td>\n",
       "      <td>{'lowongan': 1, 'kerja': 1, 'lidah': 1, 'buaya...</td>\n",
       "      <td>[lowongan, kerja, lidah, buaya, group, sales, ...</td>\n",
       "      <td>[lowongan, kerja, lidah, buaya, group, sale, k...</td>\n",
       "      <td>[lowong, kerja, lidah, buaya, group, sale, kua...</td>\n",
       "      <td>5</td>\n",
       "      <td>positive</td>\n",
       "    </tr>\n",
       "    <tr>\n",
       "      <th>4</th>\n",
       "      <td>Thu Aug 31 13:07:52 +0000 2023</td>\n",
       "      <td>hal tersebut selaras dengan program pemerint...</td>\n",
       "      <td>0</td>\n",
       "      <td>[hal, tersebut, selaras, dengan, program, peme...</td>\n",
       "      <td>{'hal': 1, 'tersebut': 1, 'selaras': 1, 'denga...</td>\n",
       "      <td>[selaras, program, pemerintah, penanggulangan,...</td>\n",
       "      <td>[selaras, program, pemerintah, penanggulangan,...</td>\n",
       "      <td>[selaras, program, perintah, tanggulang, sakit...</td>\n",
       "      <td>-5</td>\n",
       "      <td>negative</td>\n",
       "    </tr>\n",
       "    <tr>\n",
       "      <th>5</th>\n",
       "      <td>Thu Aug 31 13:07:13 +0000 2023</td>\n",
       "      <td>surabaya     dalam karyawan yang sehat terda...</td>\n",
       "      <td>1</td>\n",
       "      <td>[surabaya, dalam, karyawan, yang, sehat, terda...</td>\n",
       "      <td>{'surabaya': 2, 'dalam': 1, 'karyawan': 1, 'ya...</td>\n",
       "      <td>[surabaya, karyawan, sehat, semangat, kerja, k...</td>\n",
       "      <td>[surabaya, karyawan, sehat, semangat, kerja, k...</td>\n",
       "      <td>[surabaya, karyawan, sehat, semangat, kerja, k...</td>\n",
       "      <td>7</td>\n",
       "      <td>positive</td>\n",
       "    </tr>\n",
       "    <tr>\n",
       "      <th>6</th>\n",
       "      <td>Tue Aug 29 03:15:30 +0000 2023</td>\n",
       "      <td>prabowo memang ikut orba pro amerika sby juga ...</td>\n",
       "      <td>0</td>\n",
       "      <td>[prabowo, memang, ikut, orba, pro, amerika, sb...</td>\n",
       "      <td>{'prabowo': 2, 'memang': 1, 'ikut': 1, 'orba':...</td>\n",
       "      <td>[prabowo, orba, pro, amerika, sby, pro, amerik...</td>\n",
       "      <td>[prabowo, orba, pro, amerika, sby, pro, amerik...</td>\n",
       "      <td>[prabowo, orba, pro, amerika, sby, pro, amerik...</td>\n",
       "      <td>-5</td>\n",
       "      <td>negative</td>\n",
       "    </tr>\n",
       "    <tr>\n",
       "      <th>7</th>\n",
       "      <td>Mon Aug 14 02:45:10 +0000 2023</td>\n",
       "      <td>jadwal dan lokasi vaksin covid  surabaya hari ...</td>\n",
       "      <td>0</td>\n",
       "      <td>[jadwal, dan, lokasi, vaksin, covid, surabaya,...</td>\n",
       "      <td>{'jadwal': 1, 'dan': 1, 'lokasi': 1, 'vaksin':...</td>\n",
       "      <td>[jadwal, lokasi, vaksin, covid, surabaya, agus...</td>\n",
       "      <td>[jadwal, lokasi, vaksin, covid, surabaya, agus...</td>\n",
       "      <td>[jadwal, lokasi, vaksin, covid, surabaya, agus...</td>\n",
       "      <td>0</td>\n",
       "      <td>neutral</td>\n",
       "    </tr>\n",
       "    <tr>\n",
       "      <th>8</th>\n",
       "      <td>Sat Aug 12 02:34:07 +0000 2023</td>\n",
       "      <td>jadwal dan lokasi vaksin covid  surabaya hari ...</td>\n",
       "      <td>0</td>\n",
       "      <td>[jadwal, dan, lokasi, vaksin, covid, surabaya,...</td>\n",
       "      <td>{'jadwal': 1, 'dan': 1, 'lokasi': 1, 'vaksin':...</td>\n",
       "      <td>[jadwal, lokasi, vaksin, covid, surabaya, agus...</td>\n",
       "      <td>[jadwal, lokasi, vaksin, covid, surabaya, agus...</td>\n",
       "      <td>[jadwal, lokasi, vaksin, covid, surabaya, agus...</td>\n",
       "      <td>0</td>\n",
       "      <td>neutral</td>\n",
       "    </tr>\n",
       "    <tr>\n",
       "      <th>9</th>\n",
       "      <td>Thu Aug 10 02:34:07 +0000 2023</td>\n",
       "      <td>jadwal dan lokasi vaksin covid  surabaya hari ...</td>\n",
       "      <td>0</td>\n",
       "      <td>[jadwal, dan, lokasi, vaksin, covid, surabaya,...</td>\n",
       "      <td>{'jadwal': 1, 'dan': 1, 'lokasi': 1, 'vaksin':...</td>\n",
       "      <td>[jadwal, lokasi, vaksin, covid, surabaya, agus...</td>\n",
       "      <td>[jadwal, lokasi, vaksin, covid, surabaya, agus...</td>\n",
       "      <td>[jadwal, lokasi, vaksin, covid, surabaya, agus...</td>\n",
       "      <td>0</td>\n",
       "      <td>neutral</td>\n",
       "    </tr>\n",
       "  </tbody>\n",
       "</table>\n",
       "</div>"
      ],
      "text/plain": [
       "                       created_at  \\\n",
       "0  Fri Nov 03 03:01:10 +0000 2023   \n",
       "1  Tue Oct 17 01:59:20 +0000 2023   \n",
       "2  Tue Oct 17 01:54:31 +0000 2023   \n",
       "3  Mon Oct 09 02:05:33 +0000 2023   \n",
       "4  Thu Aug 31 13:07:52 +0000 2023   \n",
       "5  Thu Aug 31 13:07:13 +0000 2023   \n",
       "6  Tue Aug 29 03:15:30 +0000 2023   \n",
       "7  Mon Aug 14 02:45:10 +0000 2023   \n",
       "8  Sat Aug 12 02:34:07 +0000 2023   \n",
       "9  Thu Aug 10 02:34:07 +0000 2023   \n",
       "\n",
       "                                           full_text  retweet_count  \\\n",
       "0  yg menolak kebijakan globalis pasti diincar  i...              4   \n",
       "1  halo min  ayah saya belum melakukan vaksinasi ...              0   \n",
       "2  halo min  ayah saya belum melakukan vaksinasi ...              0   \n",
       "3  lowongan kerja lidah buaya group sales kualifi...              0   \n",
       "4    hal tersebut selaras dengan program pemerint...              0   \n",
       "5    surabaya     dalam karyawan yang sehat terda...              1   \n",
       "6  prabowo memang ikut orba pro amerika sby juga ...              0   \n",
       "7  jadwal dan lokasi vaksin covid  surabaya hari ...              0   \n",
       "8  jadwal dan lokasi vaksin covid  surabaya hari ...              0   \n",
       "9  jadwal dan lokasi vaksin covid  surabaya hari ...              0   \n",
       "\n",
       "                                               token  \\\n",
       "0  [yg, menolak, kebijakan, globalis, pasti, diin...   \n",
       "1  [halo, min, ayah, saya, belum, melakukan, vaks...   \n",
       "2  [halo, min, ayah, saya, belum, melakukan, vaks...   \n",
       "3  [lowongan, kerja, lidah, buaya, group, sales, ...   \n",
       "4  [hal, tersebut, selaras, dengan, program, peme...   \n",
       "5  [surabaya, dalam, karyawan, yang, sehat, terda...   \n",
       "6  [prabowo, memang, ikut, orba, pro, amerika, sb...   \n",
       "7  [jadwal, dan, lokasi, vaksin, covid, surabaya,...   \n",
       "8  [jadwal, dan, lokasi, vaksin, covid, surabaya,...   \n",
       "9  [jadwal, dan, lokasi, vaksin, covid, surabaya,...   \n",
       "\n",
       "                                           frequency  \\\n",
       "0  {'yg': 1, 'menolak': 3, 'kebijakan': 1, 'globa...   \n",
       "1  {'halo': 1, 'min': 1, 'ayah': 1, 'saya': 1, 'b...   \n",
       "2  {'halo': 1, 'min': 1, 'ayah': 1, 'saya': 1, 'b...   \n",
       "3  {'lowongan': 1, 'kerja': 1, 'lidah': 1, 'buaya...   \n",
       "4  {'hal': 1, 'tersebut': 1, 'selaras': 1, 'denga...   \n",
       "5  {'surabaya': 2, 'dalam': 1, 'karyawan': 1, 'ya...   \n",
       "6  {'prabowo': 2, 'memang': 1, 'ikut': 1, 'orba':...   \n",
       "7  {'jadwal': 1, 'dan': 1, 'lokasi': 1, 'vaksin':...   \n",
       "8  {'jadwal': 1, 'dan': 1, 'lokasi': 1, 'vaksin':...   \n",
       "9  {'jadwal': 1, 'dan': 1, 'lokasi': 1, 'vaksin':...   \n",
       "\n",
       "                                      filtered_token  \\\n",
       "0  [yg, menolak, kebijakan, globalis, diincar, si...   \n",
       "1  [halo, min, ayah, vaksinasi, covid, usia, th, ...   \n",
       "2  [halo, min, ayah, vaksinasi, covid, usia, th, ...   \n",
       "3  [lowongan, kerja, lidah, buaya, group, sales, ...   \n",
       "4  [selaras, program, pemerintah, penanggulangan,...   \n",
       "5  [surabaya, karyawan, sehat, semangat, kerja, k...   \n",
       "6  [prabowo, orba, pro, amerika, sby, pro, amerik...   \n",
       "7  [jadwal, lokasi, vaksin, covid, surabaya, agus...   \n",
       "8  [jadwal, lokasi, vaksin, covid, surabaya, agus...   \n",
       "9  [jadwal, lokasi, vaksin, covid, surabaya, agus...   \n",
       "\n",
       "                                   lemmatized_tokens  \\\n",
       "0  [yg, menolak, kebijakan, globalis, diincar, si...   \n",
       "1  [halo, min, ayah, vaksinasi, covid, usia, th, ...   \n",
       "2  [halo, min, ayah, vaksinasi, covid, usia, th, ...   \n",
       "3  [lowongan, kerja, lidah, buaya, group, sale, k...   \n",
       "4  [selaras, program, pemerintah, penanggulangan,...   \n",
       "5  [surabaya, karyawan, sehat, semangat, kerja, k...   \n",
       "6  [prabowo, orba, pro, amerika, sby, pro, amerik...   \n",
       "7  [jadwal, lokasi, vaksin, covid, surabaya, agus...   \n",
       "8  [jadwal, lokasi, vaksin, covid, surabaya, agus...   \n",
       "9  [jadwal, lokasi, vaksin, covid, surabaya, agus...   \n",
       "\n",
       "                                      stemmed_tokens  polarity_score  polarity  \n",
       "0  [yg, tolak, bijak, global, incar, siti, fadila...             -31  negative  \n",
       "1  [halo, min, ayah, vaksinasi, covid, usia, th, ...               1  positive  \n",
       "2  [halo, min, ayah, vaksinasi, covid, usia, th, ...               1  positive  \n",
       "3  [lowong, kerja, lidah, buaya, group, sale, kua...               5  positive  \n",
       "4  [selaras, program, perintah, tanggulang, sakit...              -5  negative  \n",
       "5  [surabaya, karyawan, sehat, semangat, kerja, k...               7  positive  \n",
       "6  [prabowo, orba, pro, amerika, sby, pro, amerik...              -5  negative  \n",
       "7  [jadwal, lokasi, vaksin, covid, surabaya, agus...               0   neutral  \n",
       "8  [jadwal, lokasi, vaksin, covid, surabaya, agus...               0   neutral  \n",
       "9  [jadwal, lokasi, vaksin, covid, surabaya, agus...               0   neutral  "
      ]
     },
     "execution_count": 28,
     "metadata": {},
     "output_type": "execute_result"
    }
   ],
   "source": [
    "# Results from determine sentiment polarity of df\n",
    "\n",
    "results = df['stemmed_tokens'].apply(sentiment_analysis_lexicon_indonesia)\n",
    "results = list(zip(*results))\n",
    "df['polarity_score'] = results[0]\n",
    "df['polarity'] = results[1]\n",
    "print(df['polarity'].value_counts())\n",
    "\n",
    "# Export to csv file\n",
    "# df.to_csv('vaksinasi_dan_covid_dan_surabaya_polarity.csv', index = False, header = True,index_label=None)\n",
    "\n",
    "df.head(10)"
   ]
  },
  {
   "cell_type": "markdown",
   "metadata": {},
   "source": [
    "## Analisis Data"
   ]
  },
  {
   "cell_type": "code",
   "execution_count": null,
   "metadata": {},
   "outputs": [],
   "source": []
  },
  {
   "cell_type": "markdown",
   "metadata": {},
   "source": [
    "### Word-Cloud for Positive tweets"
   ]
  },
  {
   "cell_type": "code",
   "execution_count": 29,
   "metadata": {},
   "outputs": [],
   "source": [
    "# !pip install wordcloud"
   ]
  },
  {
   "cell_type": "code",
   "execution_count": 30,
   "metadata": {},
   "outputs": [
    {
     "data": {
      "image/png": "[encoded data removed]",
      "text/plain": [
       "<Figure size 1200x600 with 1 Axes>"
      ]
     },
     "metadata": {},
     "output_type": "display_data"
    }
   ],
   "source": [
    "from wordcloud import WordCloud\n",
    "import matplotlib.pyplot as plt\n",
    "\n",
    "# Assuming you already have lexicon_positive and lexicon_negative dictionaries\n",
    "\n",
    "# Combine all positive and negative words into a single list\n",
    "positive_words = list(lexicon_positive.keys())\n",
    "\n",
    "\n",
    "# Join the positive and negative words into two separate strings\n",
    "positive_text = ' '.join(positive_words)\n",
    "\n",
    "# Generate word clouds for positive and negative sentiments\n",
    "wordcloud_positive = WordCloud(width=800, height=400, background_color='white').generate(positive_text)\n",
    "\n",
    "# Display the word clouds using matplotlib\n",
    "plt.figure(figsize=(12, 6))\n",
    "\n",
    "# Plotting the positive word cloud\n",
    "plt.subplot(1, 2, 1)\n",
    "plt.imshow(wordcloud_positive, interpolation='bilinear')\n",
    "plt.axis('off')\n",
    "plt.title('Positive Word Cloud')\n",
    "\n",
    "\n",
    "\n",
    "plt.show()"
   ]
  },
  {
   "cell_type": "markdown",
   "metadata": {},
   "source": [
    "### Word-Cloud for Negative tweets"
   ]
  },
  {
   "cell_type": "code",
   "execution_count": 31,
   "metadata": {},
   "outputs": [
    {
     "data": {
      "image/png": "[encoded data removed]",
      "text/plain": [
       "<Figure size 1200x600 with 1 Axes>"
      ]
     },
     "metadata": {},
     "output_type": "display_data"
    }
   ],
   "source": [
    "negative_words = list(lexicon_negative.keys())\n",
    "negative_text = ' '.join(negative_words)\n",
    "wordcloud_negative = WordCloud(width=800, height=400, background_color='white').generate(negative_text)\n",
    "plt.figure(figsize=(12, 6))\n",
    "\n",
    "# Plotting the negative word cloud\n",
    "plt.subplot(1, 2, 2)\n",
    "plt.imshow(wordcloud_negative, interpolation='bilinear')\n",
    "plt.axis('off')\n",
    "plt.title('Negative Word Cloud')\n",
    "\n",
    "plt.show()"
   ]
  },
  {
   "cell_type": "markdown",
   "metadata": {},
   "source": [
    "### Analysis Data"
   ]
  },
  {
   "cell_type": "code",
   "execution_count": 33,
   "metadata": {},
   "outputs": [
    {
     "data": {
      "image/png": "[encoded data removed]",
      "text/plain": [
       "<Figure size 1000x600 with 1 Axes>"
      ]
     },
     "metadata": {},
     "output_type": "display_data"
    }
   ],
   "source": [
    "import pandas as pd\n",
    "import seaborn as sns\n",
    "import matplotlib.pyplot as plt\n",
    "\n",
    "# Results from determine sentiment polarity of df\n",
    "results = df['stemmed_tokens'].apply(sentiment_analysis_lexicon_indonesia)\n",
    "results = list(zip(*results))\n",
    "df['polarity_score'] = results[0]\n",
    "df['polarity'] = results[1]\n",
    "\n",
    "# Visualize the distribution of sentiment polarity scores and labels\n",
    "fig, ax = plt.subplots(figsize=(10, 6))\n",
    "\n",
    "# Plot the distribution of sentiment polarity scores\n",
    "sns.histplot(df, x='polarity_score', hue='polarity', multiple='stack', bins=30, palette='viridis', ax=ax)\n",
    "ax.set_title('Distribution of Sentiment Polarity Scores')\n",
    "ax.set_xlabel('Polarity Score')\n",
    "ax.set_ylabel('Count')\n",
    "\n",
    "plt.show()\n"
   ]
  },
  {
   "cell_type": "markdown",
   "metadata": {},
   "source": [
    "Dari grafik ini, kita dapat melihat bahwa sentimen netral mendominasi kumpulan data ini dengan jumlah 40."
   ]
  },
  {
   "cell_type": "code",
   "execution_count": 34,
   "metadata": {},
   "outputs": [
    {
     "data": {
      "text/html": [
       "<style type=\"text/css\">\n",
       "#T_78292_row0_col1 {\n",
       "  background-color: #08306b;\n",
       "  color: #f1f1f1;\n",
       "}\n",
       "#T_78292_row1_col1, #T_78292_row2_col1, #T_78292_row3_col1 {\n",
       "  background-color: #084082;\n",
       "  color: #f1f1f1;\n",
       "}\n",
       "#T_78292_row4_col1 {\n",
       "  background-color: #125da6;\n",
       "  color: #f1f1f1;\n",
       "}\n",
       "#T_78292_row5_col1 {\n",
       "  background-color: #3c8cc3;\n",
       "  color: #f1f1f1;\n",
       "}\n",
       "#T_78292_row6_col1 {\n",
       "  background-color: #b5d4e9;\n",
       "  color: #000000;\n",
       "}\n",
       "#T_78292_row7_col1 {\n",
       "  background-color: #bed8ec;\n",
       "  color: #000000;\n",
       "}\n",
       "#T_78292_row8_col1 {\n",
       "  background-color: #c1d9ed;\n",
       "  color: #000000;\n",
       "}\n",
       "#T_78292_row9_col1 {\n",
       "  background-color: #d2e3f3;\n",
       "  color: #000000;\n",
       "}\n",
       "#T_78292_row10_col1 {\n",
       "  background-color: #e3eef8;\n",
       "  color: #000000;\n",
       "}\n",
       "#T_78292_row11_col1 {\n",
       "  background-color: #e6f0f9;\n",
       "  color: #000000;\n",
       "}\n",
       "#T_78292_row12_col1 {\n",
       "  background-color: #eef5fc;\n",
       "  color: #000000;\n",
       "}\n",
       "#T_78292_row13_col1 {\n",
       "  background-color: #f1f7fd;\n",
       "  color: #000000;\n",
       "}\n",
       "#T_78292_row14_col1 {\n",
       "  background-color: #f2f8fd;\n",
       "  color: #000000;\n",
       "}\n",
       "#T_78292_row15_col1 {\n",
       "  background-color: #f5f9fe;\n",
       "  color: #000000;\n",
       "}\n",
       "#T_78292_row16_col1 {\n",
       "  background-color: #f6faff;\n",
       "  color: #000000;\n",
       "}\n",
       "#T_78292_row17_col1, #T_78292_row18_col1, #T_78292_row19_col1 {\n",
       "  background-color: #f7fbff;\n",
       "  color: #000000;\n",
       "}\n",
       "</style>\n",
       "<table id=\"T_78292\">\n",
       "  <thead>\n",
       "    <tr>\n",
       "      <th class=\"blank level0\" >&nbsp;</th>\n",
       "      <th id=\"T_78292_level0_col0\" class=\"col_heading level0 col0\" >Common_words</th>\n",
       "      <th id=\"T_78292_level0_col1\" class=\"col_heading level0 col1\" >count</th>\n",
       "    </tr>\n",
       "  </thead>\n",
       "  <tbody>\n",
       "    <tr>\n",
       "      <th id=\"T_78292_level0_row0\" class=\"row_heading level0 row0\" >0</th>\n",
       "      <td id=\"T_78292_row0_col0\" class=\"data row0 col0\" >'covid',</td>\n",
       "      <td id=\"T_78292_row0_col1\" class=\"data row0 col1\" >1115</td>\n",
       "    </tr>\n",
       "    <tr>\n",
       "      <th id=\"T_78292_level0_row1\" class=\"row_heading level0 row1\" >1</th>\n",
       "      <td id=\"T_78292_row1_col0\" class=\"data row1 col0\" >'t',</td>\n",
       "      <td id=\"T_78292_row1_col1\" class=\"data row1 col1\" >1054</td>\n",
       "    </tr>\n",
       "    <tr>\n",
       "      <th id=\"T_78292_level0_row2\" class=\"row_heading level0 row2\" >2</th>\n",
       "      <td id=\"T_78292_row2_col0\" class=\"data row2 col0\" >'surabaya',</td>\n",
       "      <td id=\"T_78292_row2_col1\" class=\"data row2 col1\" >1051</td>\n",
       "    </tr>\n",
       "    <tr>\n",
       "      <th id=\"T_78292_level0_row3\" class=\"row_heading level0 row3\" >3</th>\n",
       "      <td id=\"T_78292_row3_col0\" class=\"data row3 col0\" >'co',</td>\n",
       "      <td id=\"T_78292_row3_col1\" class=\"data row3 col1\" >1051</td>\n",
       "    </tr>\n",
       "    <tr>\n",
       "      <th id=\"T_78292_level0_row4\" class=\"row_heading level0 row4\" >4</th>\n",
       "      <td id=\"T_78292_row4_col0\" class=\"data row4 col0\" >'vaksin',</td>\n",
       "      <td id=\"T_78292_row4_col1\" class=\"data row4 col1\" >933</td>\n",
       "    </tr>\n",
       "    <tr>\n",
       "      <th id=\"T_78292_level0_row5\" class=\"row_heading level0 row5\" >5</th>\n",
       "      <td id=\"T_78292_row5_col0\" class=\"data row5 col0\" >'lokasi',</td>\n",
       "      <td id=\"T_78292_row5_col1\" class=\"data row5 col1\" >749</td>\n",
       "    </tr>\n",
       "    <tr>\n",
       "      <th id=\"T_78292_level0_row6\" class=\"row_heading level0 row6\" >6</th>\n",
       "      <td id=\"T_78292_row6_col0\" class=\"data row6 col0\" >['jadwal',</td>\n",
       "      <td id=\"T_78292_row6_col1\" class=\"data row6 col1\" >392</td>\n",
       "    </tr>\n",
       "    <tr>\n",
       "      <th id=\"T_78292_level0_row7\" class=\"row_heading level0 row7\" >7</th>\n",
       "      <td id=\"T_78292_row7_col0\" class=\"data row7 col0\" >'jadwal',</td>\n",
       "      <td id=\"T_78292_row7_col1\" class=\"data row7 col1\" >366</td>\n",
       "    </tr>\n",
       "    <tr>\n",
       "      <th id=\"T_78292_level0_row8\" class=\"row_heading level0 row8\" >8</th>\n",
       "      <td id=\"T_78292_row8_col0\" class=\"data row8 col0\" >['beritajatim',</td>\n",
       "      <td id=\"T_78292_row8_col1\" class=\"data row8 col1\" >356</td>\n",
       "    </tr>\n",
       "    <tr>\n",
       "      <th id=\"T_78292_level0_row9\" class=\"row_heading level0 row9\" >9</th>\n",
       "      <td id=\"T_78292_row9_col0\" class=\"data row9 col0\" >'jadwalvaksin',</td>\n",
       "      <td id=\"T_78292_row9_col1\" class=\"data row9 col1\" >275</td>\n",
       "    </tr>\n",
       "    <tr>\n",
       "      <th id=\"T_78292_level0_row10\" class=\"row_heading level0 row10\" >10</th>\n",
       "      <td id=\"T_78292_row10_col0\" class=\"data row10 col0\" >'vaksinasi',</td>\n",
       "      <td id=\"T_78292_row10_col1\" class=\"data row10 col1\" >188</td>\n",
       "    </tr>\n",
       "    <tr>\n",
       "      <th id=\"T_78292_level0_row11\" class=\"row_heading level0 row11\" >11</th>\n",
       "      <td id=\"T_78292_row11_col0\" class=\"data row11 col0\" >'infovaksin',</td>\n",
       "      <td id=\"T_78292_row11_col1\" class=\"data row11 col1\" >172</td>\n",
       "    </tr>\n",
       "    <tr>\n",
       "      <th id=\"T_78292_level0_row12\" class=\"row_heading level0 row12\" >12</th>\n",
       "      <td id=\"T_78292_row12_col0\" class=\"data row12 col0\" >'vaksinboostersurabaya',</td>\n",
       "      <td id=\"T_78292_row12_col1\" class=\"data row12 col1\" >124</td>\n",
       "    </tr>\n",
       "    <tr>\n",
       "      <th id=\"T_78292_level0_row13\" class=\"row_heading level0 row13\" >13</th>\n",
       "      <td id=\"T_78292_row13_col0\" class=\"data row13 col0\" >'booster',</td>\n",
       "      <td id=\"T_78292_row13_col1\" class=\"data row13 col1\" >113</td>\n",
       "    </tr>\n",
       "    <tr>\n",
       "      <th id=\"T_78292_level0_row14\" class=\"row_heading level0 row14\" >14</th>\n",
       "      <td id=\"T_78292_row14_col0\" class=\"data row14 col0\" >'vaksinbooster',</td>\n",
       "      <td id=\"T_78292_row14_col1\" class=\"data row14 col1\" >104</td>\n",
       "    </tr>\n",
       "    <tr>\n",
       "      <th id=\"T_78292_level0_row15\" class=\"row_heading level0 row15\" >15</th>\n",
       "      <td id=\"T_78292_row15_col0\" class=\"data row15 col0\" >'infovaksinsurabaya',</td>\n",
       "      <td id=\"T_78292_row15_col1\" class=\"data row15 col1\" >95</td>\n",
       "    </tr>\n",
       "    <tr>\n",
       "      <th id=\"T_78292_level0_row16\" class=\"row_heading level0 row16\" >16</th>\n",
       "      <td id=\"T_78292_row16_col0\" class=\"data row16 col0\" >'lokasivaksin',</td>\n",
       "      <td id=\"T_78292_row16_col1\" class=\"data row16 col1\" >84</td>\n",
       "    </tr>\n",
       "    <tr>\n",
       "      <th id=\"T_78292_level0_row17\" class=\"row_heading level0 row17\" >17</th>\n",
       "      <td id=\"T_78292_row17_col0\" class=\"data row17 col0\" >'juni',</td>\n",
       "      <td id=\"T_78292_row17_col1\" class=\"data row17 col1\" >79</td>\n",
       "    </tr>\n",
       "    <tr>\n",
       "      <th id=\"T_78292_level0_row18\" class=\"row_heading level0 row18\" >18</th>\n",
       "      <td id=\"T_78292_row18_col0\" class=\"data row18 col0\" >'mei',</td>\n",
       "      <td id=\"T_78292_row18_col1\" class=\"data row18 col1\" >79</td>\n",
       "    </tr>\n",
       "    <tr>\n",
       "      <th id=\"T_78292_level0_row19\" class=\"row_heading level0 row19\" >19</th>\n",
       "      <td id=\"T_78292_row19_col0\" class=\"data row19 col0\" >'november',</td>\n",
       "      <td id=\"T_78292_row19_col1\" class=\"data row19 col1\" >79</td>\n",
       "    </tr>\n",
       "  </tbody>\n",
       "</table>\n"
      ],
      "text/plain": [
       "<pandas.io.formats.style.Styler at 0x1ee5f78eec0>"
      ]
     },
     "execution_count": 34,
     "metadata": {},
     "output_type": "execute_result"
    }
   ],
   "source": [
    "from collections import Counter\n",
    "import pandas as pd\n",
    "\n",
    "# Results from determining sentiment polarity of df\n",
    "results = df['stemmed_tokens'].apply(sentiment_analysis_lexicon_indonesia)\n",
    "results = list(zip(*results))\n",
    "df['polarity_score'] = results[0]\n",
    "df['polarity'] = results[1]\n",
    "\n",
    "# Create a temporary list column containing tokenized words\n",
    "df['temp_list'] = df['stemmed_tokens'].apply(lambda x: str(x).split())\n",
    "\n",
    "# Get the most common words\n",
    "top_words = Counter([item for sublist in df['temp_list'] for item in sublist])\n",
    "temp = pd.DataFrame(top_words.most_common(20))\n",
    "temp.columns = ['Common_words', 'count']\n",
    "temp.style.background_gradient(cmap='Blues')\n"
   ]
  },
  {
   "cell_type": "code",
   "execution_count": 35,
   "metadata": {},
   "outputs": [
    {
     "name": "stdout",
     "output_type": "stream",
     "text": [
      "Requirement already satisfied: plotly in c:\\users\\dllse\\appdata\\local\\packages\\pythonsoftwarefoundation.python.3.10_qbz5n2kfra8p0\\localcache\\local-packages\\python310\\site-packages (5.18.0)\n",
      "Requirement already satisfied: tenacity>=6.2.0 in c:\\users\\dllse\\appdata\\local\\packages\\pythonsoftwarefoundation.python.3.10_qbz5n2kfra8p0\\localcache\\local-packages\\python310\\site-packages (from plotly) (8.2.3)\n",
      "Requirement already satisfied: packaging in c:\\users\\dllse\\appdata\\local\\packages\\pythonsoftwarefoundation.python.3.10_qbz5n2kfra8p0\\localcache\\local-packages\\python310\\site-packages (from plotly) (23.1)\n"
     ]
    },
    {
     "name": "stderr",
     "output_type": "stream",
     "text": [
      "\n",
      "[notice] A new release of pip is available: 23.2.1 -> 23.3.1\n",
      "[notice] To update, run: C:\\Users\\dllse\\AppData\\Local\\Microsoft\\WindowsApps\\PythonSoftwareFoundation.Python.3.10_qbz5n2kfra8p0\\python.exe -m pip install --upgrade pip\n"
     ]
    }
   ],
   "source": [
    "!pip install plotly"
   ]
  },
  {
   "cell_type": "code",
   "execution_count": 36,
   "metadata": {},
   "outputs": [
    {
     "data": {
      "application/vnd.plotly.v1+json": {
       "config": {
        "plotlyServerURL": "https://plot.ly"
       },
       "data": [
        {
         "branchvalues": "total",
         "domain": {
          "x": [
           0,
           1
          ],
          "y": [
           0,
           1
          ]
         },
         "hovertemplate": "labels=%{label}<br>count=%{value}<br>parent=%{parent}<br>id=%{id}<extra></extra>",
         "ids": [
          "'booster',",
          "'co',",
          "'covid',",
          "'infovaksin',",
          "'infovaksinsurabaya',",
          "'jadwal',",
          "'jadwalvaksin',",
          "'juni',",
          "'lokasi',",
          "'lokasivaksin',",
          "'mei',",
          "'november',",
          "'surabaya',",
          "'t',",
          "'vaksin',",
          "'vaksinasi',",
          "'vaksinbooster',",
          "'vaksinboostersurabaya',",
          "['beritajatim',",
          "['jadwal',"
         ],
         "labels": [
          "'booster',",
          "'co',",
          "'covid',",
          "'infovaksin',",
          "'infovaksinsurabaya',",
          "'jadwal',",
          "'jadwalvaksin',",
          "'juni',",
          "'lokasi',",
          "'lokasivaksin',",
          "'mei',",
          "'november',",
          "'surabaya',",
          "'t',",
          "'vaksin',",
          "'vaksinasi',",
          "'vaksinbooster',",
          "'vaksinboostersurabaya',",
          "['beritajatim',",
          "['jadwal',"
         ],
         "name": "",
         "parents": [
          "",
          "",
          "",
          "",
          "",
          "",
          "",
          "",
          "",
          "",
          "",
          "",
          "",
          "",
          "",
          "",
          "",
          "",
          "",
          ""
         ],
         "type": "treemap",
         "values": [
          113,
          1051,
          1115,
          172,
          95,
          366,
          275,
          79,
          749,
          84,
          79,
          79,
          1051,
          1054,
          933,
          188,
          104,
          124,
          356,
          392
         ]
        }
       ],
       "layout": {
        "legend": {
         "tracegroupgap": 0
        },
        "template": {
         "data": {
          "bar": [
           {
            "error_x": {
             "color": "#2a3f5f"
            },
            "error_y": {
             "color": "#2a3f5f"
            },
            "marker": {
             "line": {
              "color": "#E5ECF6",
              "width": 0.5
             },
             "pattern": {
              "fillmode": "overlay",
              "size": 10,
              "solidity": 0.2
             }
            },
            "type": "bar"
           }
          ],
          "barpolar": [
           {
            "marker": {
             "line": {
              "color": "#E5ECF6",
              "width": 0.5
             },
             "pattern": {
              "fillmode": "overlay",
              "size": 10,
              "solidity": 0.2
             }
            },
            "type": "barpolar"
           }
          ],
          "carpet": [
           {
            "aaxis": {
             "endlinecolor": "#2a3f5f",
             "gridcolor": "white",
             "linecolor": "white",
             "minorgridcolor": "white",
             "startlinecolor": "#2a3f5f"
            },
            "baxis": {
             "endlinecolor": "#2a3f5f",
             "gridcolor": "white",
             "linecolor": "white",
             "minorgridcolor": "white",
             "startlinecolor": "#2a3f5f"
            },
            "type": "carpet"
           }
          ],
          "choropleth": [
           {
            "colorbar": {
             "outlinewidth": 0,
             "ticks": ""
            },
            "type": "choropleth"
           }
          ],
          "contour": [
           {
            "colorbar": {
             "outlinewidth": 0,
             "ticks": ""
            },
            "colorscale": [
             [
              0,
              "#0d0887"
             ],
             [
              0.1111111111111111,
              "#46039f"
             ],
             [
              0.2222222222222222,
              "#7201a8"
             ],
             [
              0.3333333333333333,
              "#9c179e"
             ],
             [
              0.4444444444444444,
              "#bd3786"
             ],
             [
              0.5555555555555556,
              "#d8576b"
             ],
             [
              0.6666666666666666,
              "#ed7953"
             ],
             [
              0.7777777777777778,
              "#fb9f3a"
             ],
             [
              0.8888888888888888,
              "#fdca26"
             ],
             [
              1,
              "#f0f921"
             ]
            ],
            "type": "contour"
           }
          ],
          "contourcarpet": [
           {
            "colorbar": {
             "outlinewidth": 0,
             "ticks": ""
            },
            "type": "contourcarpet"
           }
          ],
          "heatmap": [
           {
            "colorbar": {
             "outlinewidth": 0,
             "ticks": ""
            },
            "colorscale": [
             [
              0,
              "#0d0887"
             ],
             [
              0.1111111111111111,
              "#46039f"
             ],
             [
              0.2222222222222222,
              "#7201a8"
             ],
             [
              0.3333333333333333,
              "#9c179e"
             ],
             [
              0.4444444444444444,
              "#bd3786"
             ],
             [
              0.5555555555555556,
              "#d8576b"
             ],
             [
              0.6666666666666666,
              "#ed7953"
             ],
             [
              0.7777777777777778,
              "#fb9f3a"
             ],
             [
              0.8888888888888888,
              "#fdca26"
             ],
             [
              1,
              "#f0f921"
             ]
            ],
            "type": "heatmap"
           }
          ],
          "heatmapgl": [
           {
            "colorbar": {
             "outlinewidth": 0,
             "ticks": ""
            },
            "colorscale": [
             [
              0,
              "#0d0887"
             ],
             [
              0.1111111111111111,
              "#46039f"
             ],
             [
              0.2222222222222222,
              "#7201a8"
             ],
             [
              0.3333333333333333,
              "#9c179e"
             ],
             [
              0.4444444444444444,
              "#bd3786"
             ],
             [
              0.5555555555555556,
              "#d8576b"
             ],
             [
              0.6666666666666666,
              "#ed7953"
             ],
             [
              0.7777777777777778,
              "#fb9f3a"
             ],
             [
              0.8888888888888888,
              "#fdca26"
             ],
             [
              1,
              "#f0f921"
             ]
            ],
            "type": "heatmapgl"
           }
          ],
          "histogram": [
           {
            "marker": {
             "pattern": {
              "fillmode": "overlay",
              "size": 10,
              "solidity": 0.2
             }
            },
            "type": "histogram"
           }
          ],
          "histogram2d": [
           {
            "colorbar": {
             "outlinewidth": 0,
             "ticks": ""
            },
            "colorscale": [
             [
              0,
              "#0d0887"
             ],
             [
              0.1111111111111111,
              "#46039f"
             ],
             [
              0.2222222222222222,
              "#7201a8"
             ],
             [
              0.3333333333333333,
              "#9c179e"
             ],
             [
              0.4444444444444444,
              "#bd3786"
             ],
             [
              0.5555555555555556,
              "#d8576b"
             ],
             [
              0.6666666666666666,
              "#ed7953"
             ],
             [
              0.7777777777777778,
              "#fb9f3a"
             ],
             [
              0.8888888888888888,
              "#fdca26"
             ],
             [
              1,
              "#f0f921"
             ]
            ],
            "type": "histogram2d"
           }
          ],
          "histogram2dcontour": [
           {
            "colorbar": {
             "outlinewidth": 0,
             "ticks": ""
            },
            "colorscale": [
             [
              0,
              "#0d0887"
             ],
             [
              0.1111111111111111,
              "#46039f"
             ],
             [
              0.2222222222222222,
              "#7201a8"
             ],
             [
              0.3333333333333333,
              "#9c179e"
             ],
             [
              0.4444444444444444,
              "#bd3786"
             ],
             [
              0.5555555555555556,
              "#d8576b"
             ],
             [
              0.6666666666666666,
              "#ed7953"
             ],
             [
              0.7777777777777778,
              "#fb9f3a"
             ],
             [
              0.8888888888888888,
              "#fdca26"
             ],
             [
              1,
              "#f0f921"
             ]
            ],
            "type": "histogram2dcontour"
           }
          ],
          "mesh3d": [
           {
            "colorbar": {
             "outlinewidth": 0,
             "ticks": ""
            },
            "type": "mesh3d"
           }
          ],
          "parcoords": [
           {
            "line": {
             "colorbar": {
              "outlinewidth": 0,
              "ticks": ""
             }
            },
            "type": "parcoords"
           }
          ],
          "pie": [
           {
            "automargin": true,
            "type": "pie"
           }
          ],
          "scatter": [
           {
            "fillpattern": {
             "fillmode": "overlay",
             "size": 10,
             "solidity": 0.2
            },
            "type": "scatter"
           }
          ],
          "scatter3d": [
           {
            "line": {
             "colorbar": {
              "outlinewidth": 0,
              "ticks": ""
             }
            },
            "marker": {
             "colorbar": {
              "outlinewidth": 0,
              "ticks": ""
             }
            },
            "type": "scatter3d"
           }
          ],
          "scattercarpet": [
           {
            "marker": {
             "colorbar": {
              "outlinewidth": 0,
              "ticks": ""
             }
            },
            "type": "scattercarpet"
           }
          ],
          "scattergeo": [
           {
            "marker": {
             "colorbar": {
              "outlinewidth": 0,
              "ticks": ""
             }
            },
            "type": "scattergeo"
           }
          ],
          "scattergl": [
           {
            "marker": {
             "colorbar": {
              "outlinewidth": 0,
              "ticks": ""
             }
            },
            "type": "scattergl"
           }
          ],
          "scattermapbox": [
           {
            "marker": {
             "colorbar": {
              "outlinewidth": 0,
              "ticks": ""
             }
            },
            "type": "scattermapbox"
           }
          ],
          "scatterpolar": [
           {
            "marker": {
             "colorbar": {
              "outlinewidth": 0,
              "ticks": ""
             }
            },
            "type": "scatterpolar"
           }
          ],
          "scatterpolargl": [
           {
            "marker": {
             "colorbar": {
              "outlinewidth": 0,
              "ticks": ""
             }
            },
            "type": "scatterpolargl"
           }
          ],
          "scatterternary": [
           {
            "marker": {
             "colorbar": {
              "outlinewidth": 0,
              "ticks": ""
             }
            },
            "type": "scatterternary"
           }
          ],
          "surface": [
           {
            "colorbar": {
             "outlinewidth": 0,
             "ticks": ""
            },
            "colorscale": [
             [
              0,
              "#0d0887"
             ],
             [
              0.1111111111111111,
              "#46039f"
             ],
             [
              0.2222222222222222,
              "#7201a8"
             ],
             [
              0.3333333333333333,
              "#9c179e"
             ],
             [
              0.4444444444444444,
              "#bd3786"
             ],
             [
              0.5555555555555556,
              "#d8576b"
             ],
             [
              0.6666666666666666,
              "#ed7953"
             ],
             [
              0.7777777777777778,
              "#fb9f3a"
             ],
             [
              0.8888888888888888,
              "#fdca26"
             ],
             [
              1,
              "#f0f921"
             ]
            ],
            "type": "surface"
           }
          ],
          "table": [
           {
            "cells": {
             "fill": {
              "color": "#EBF0F8"
             },
             "line": {
              "color": "white"
             }
            },
            "header": {
             "fill": {
              "color": "#C8D4E3"
             },
             "line": {
              "color": "white"
             }
            },
            "type": "table"
           }
          ]
         },
         "layout": {
          "annotationdefaults": {
           "arrowcolor": "#2a3f5f",
           "arrowhead": 0,
           "arrowwidth": 1
          },
          "autotypenumbers": "strict",
          "coloraxis": {
           "colorbar": {
            "outlinewidth": 0,
            "ticks": ""
           }
          },
          "colorscale": {
           "diverging": [
            [
             0,
             "#8e0152"
            ],
            [
             0.1,
             "#c51b7d"
            ],
            [
             0.2,
             "#de77ae"
            ],
            [
             0.3,
             "#f1b6da"
            ],
            [
             0.4,
             "#fde0ef"
            ],
            [
             0.5,
             "#f7f7f7"
            ],
            [
             0.6,
             "#e6f5d0"
            ],
            [
             0.7,
             "#b8e186"
            ],
            [
             0.8,
             "#7fbc41"
            ],
            [
             0.9,
             "#4d9221"
            ],
            [
             1,
             "#276419"
            ]
           ],
           "sequential": [
            [
             0,
             "#0d0887"
            ],
            [
             0.1111111111111111,
             "#46039f"
            ],
            [
             0.2222222222222222,
             "#7201a8"
            ],
            [
             0.3333333333333333,
             "#9c179e"
            ],
            [
             0.4444444444444444,
             "#bd3786"
            ],
            [
             0.5555555555555556,
             "#d8576b"
            ],
            [
             0.6666666666666666,
             "#ed7953"
            ],
            [
             0.7777777777777778,
             "#fb9f3a"
            ],
            [
             0.8888888888888888,
             "#fdca26"
            ],
            [
             1,
             "#f0f921"
            ]
           ],
           "sequentialminus": [
            [
             0,
             "#0d0887"
            ],
            [
             0.1111111111111111,
             "#46039f"
            ],
            [
             0.2222222222222222,
             "#7201a8"
            ],
            [
             0.3333333333333333,
             "#9c179e"
            ],
            [
             0.4444444444444444,
             "#bd3786"
            ],
            [
             0.5555555555555556,
             "#d8576b"
            ],
            [
             0.6666666666666666,
             "#ed7953"
            ],
            [
             0.7777777777777778,
             "#fb9f3a"
            ],
            [
             0.8888888888888888,
             "#fdca26"
            ],
            [
             1,
             "#f0f921"
            ]
           ]
          },
          "colorway": [
           "#636efa",
           "#EF553B",
           "#00cc96",
           "#ab63fa",
           "#FFA15A",
           "#19d3f3",
           "#FF6692",
           "#B6E880",
           "#FF97FF",
           "#FECB52"
          ],
          "font": {
           "color": "#2a3f5f"
          },
          "geo": {
           "bgcolor": "white",
           "lakecolor": "white",
           "landcolor": "#E5ECF6",
           "showlakes": true,
           "showland": true,
           "subunitcolor": "white"
          },
          "hoverlabel": {
           "align": "left"
          },
          "hovermode": "closest",
          "mapbox": {
           "style": "light"
          },
          "paper_bgcolor": "white",
          "plot_bgcolor": "#E5ECF6",
          "polar": {
           "angularaxis": {
            "gridcolor": "white",
            "linecolor": "white",
            "ticks": ""
           },
           "bgcolor": "#E5ECF6",
           "radialaxis": {
            "gridcolor": "white",
            "linecolor": "white",
            "ticks": ""
           }
          },
          "scene": {
           "xaxis": {
            "backgroundcolor": "#E5ECF6",
            "gridcolor": "white",
            "gridwidth": 2,
            "linecolor": "white",
            "showbackground": true,
            "ticks": "",
            "zerolinecolor": "white"
           },
           "yaxis": {
            "backgroundcolor": "#E5ECF6",
            "gridcolor": "white",
            "gridwidth": 2,
            "linecolor": "white",
            "showbackground": true,
            "ticks": "",
            "zerolinecolor": "white"
           },
           "zaxis": {
            "backgroundcolor": "#E5ECF6",
            "gridcolor": "white",
            "gridwidth": 2,
            "linecolor": "white",
            "showbackground": true,
            "ticks": "",
            "zerolinecolor": "white"
           }
          },
          "shapedefaults": {
           "line": {
            "color": "#2a3f5f"
           }
          },
          "ternary": {
           "aaxis": {
            "gridcolor": "white",
            "linecolor": "white",
            "ticks": ""
           },
           "baxis": {
            "gridcolor": "white",
            "linecolor": "white",
            "ticks": ""
           },
           "bgcolor": "#E5ECF6",
           "caxis": {
            "gridcolor": "white",
            "linecolor": "white",
            "ticks": ""
           }
          },
          "title": {
           "x": 0.05
          },
          "xaxis": {
           "automargin": true,
           "gridcolor": "white",
           "linecolor": "white",
           "ticks": "",
           "title": {
            "standoff": 15
           },
           "zerolinecolor": "white",
           "zerolinewidth": 2
          },
          "yaxis": {
           "automargin": true,
           "gridcolor": "white",
           "linecolor": "white",
           "ticks": "",
           "title": {
            "standoff": 15
           },
           "zerolinecolor": "white",
           "zerolinewidth": 2
          }
         }
        },
        "title": {
         "text": "Tree of Most Common Words"
        }
       }
      }
     },
     "metadata": {},
     "output_type": "display_data"
    }
   ],
   "source": [
    "import plotly.express as px\n",
    "\n",
    "# Results from determining sentiment polarity of df\n",
    "results = df['stemmed_tokens'].apply(sentiment_analysis_lexicon_indonesia)\n",
    "results = list(zip(*results))\n",
    "df['polarity_score'] = results[0]\n",
    "df['polarity'] = results[1]\n",
    "\n",
    "# Create a temporary list column containing tokenized words\n",
    "df['temp_list'] = df['stemmed_tokens'].apply(lambda x: str(x).split())\n",
    "\n",
    "# Get the most common words\n",
    "top_words = Counter([item for sublist in df['temp_list'] for item in sublist])\n",
    "temp = pd.DataFrame(top_words.most_common(20))\n",
    "temp.columns = ['Common_words', 'count']\n",
    "\n",
    "# Create a Treemap\n",
    "fig = px.treemap(temp, path=['Common_words'], values='count', title='Tree of Most Common Words')\n",
    "fig.show()\n"
   ]
  },
  {
   "cell_type": "markdown",
   "metadata": {},
   "source": [
    "## Split Train Test"
   ]
  },
  {
   "cell_type": "code",
   "execution_count": 32,
   "metadata": {},
   "outputs": [
    {
     "name": "stdout",
     "output_type": "stream",
     "text": [
      "Accuracy: 0.9138755980861244\n",
      "No. of feature words: 1988\n"
     ]
    },
    {
     "name": "stderr",
     "output_type": "stream",
     "text": [
      "C:\\Users\\dllse\\AppData\\Local\\Packages\\PythonSoftwareFoundation.Python.3.10_qbz5n2kfra8p0\\LocalCache\\local-packages\\Python310\\site-packages\\sklearn\\svm\\_classes.py:32: FutureWarning: The default value of `dual` will change from `True` to `'auto'` in 1.5. Set the value of `dual` explicitly to suppress the warning.\n",
      "  warnings.warn(\n"
     ]
    }
   ],
   "source": [
    "from sklearn.model_selection import train_test_split\n",
    "from sklearn.feature_extraction.text import TfidfVectorizer\n",
    "from sklearn.svm import LinearSVC\n",
    "\n",
    "# Assuming df is your DataFrame\n",
    "X = df.iloc[:, :-1]  # all columns except the last one\n",
    "y = df.iloc[:, -1]   # the last column\n",
    "\n",
    "# Split the data into training and testing sets\n",
    "X_train, X_test, y_train, y_test = train_test_split(X, y, test_size=0.2, random_state=42)\n",
    "\n",
    "# Create an instance of TfidfVectorizer\n",
    "vectorizer = TfidfVectorizer()\n",
    "\n",
    "# Convert list of tokens to string\n",
    "X_train['lemmatized_tokens'] = X_train['lemmatized_tokens'].apply(' '.join)\n",
    "\n",
    "# Fit and transform X_train\n",
    "X_train_tfidf = vectorizer.fit_transform(X_train['lemmatized_tokens'])\n",
    "\n",
    "# Transform X_test\n",
    "X_test['lemmatized_tokens'] = X_test['lemmatized_tokens'].apply(' '.join)\n",
    "X_test_tfidf = vectorizer.transform(X_test['lemmatized_tokens'])\n",
    "\n",
    "# Create an instance of LinearSVC\n",
    "model = LinearSVC()\n",
    "\n",
    "# Fit the model with the training data\n",
    "model.fit(X_train_tfidf, y_train)\n",
    "\n",
    "# Calculate the accuracy of the model\n",
    "accuracy = model.score(X_test_tfidf, y_test)\n",
    "\n",
    "print('Accuracy:', accuracy)\n",
    "# Print the number of feature words\n",
    "print('No. of feature words:', len(vectorizer.get_feature_names_out()))"
   ]
  }
 ],
 "metadata": {
  "kernelspec": {
   "display_name": "Python 3",
   "language": "python",
   "name": "python3"
  },
  "language_info": {
   "codemirror_mode": {
    "name": "ipython",
    "version": 3
   },
   "file_extension": ".py",
   "mimetype": "text/x-python",
   "name": "python",
   "nbconvert_exporter": "python",
   "pygments_lexer": "ipython3",
   "version": "3.10.11"
  }
 },
 "nbformat": 4,
 "nbformat_minor": 2
}
